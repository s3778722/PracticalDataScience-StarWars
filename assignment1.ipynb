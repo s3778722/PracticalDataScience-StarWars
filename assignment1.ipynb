{
 "cells": [
  {
   "cell_type": "code",
   "execution_count": 1,
   "metadata": {},
   "outputs": [],
   "source": [
    "#Task 1: Data Preparation\n",
    "# \"You will start by loading the CSV data from the file (using appropriate pandas functions) and checking whether the loaded data is equivalent to the data in the source CSV file.\n",
    "# Then, you need to clean the data by using the knowledge we taught in the lectures. You need to deal with all the potential issues/errors in the data appropriately (such as: typos, extra whitespaces, sanity checks for impossible values, and missing values etc). \"\n",
    "\n",
    "# Please structure code as follows: \n",
    "# always provide one line of comments to explain the purpose of the code, e.g. load the data, checking the equivalent to original data, checking typos (do this for each other types of errors)\n",
    "\n",
    "#Code goes after this line by adding cells"
   ]
  },
  {
   "cell_type": "markdown",
   "metadata": {},
   "source": [
    "Import/load pandas package into memory, and give it a nickname as “pd”"
   ]
  },
  {
   "cell_type": "code",
   "execution_count": 2,
   "metadata": {},
   "outputs": [],
   "source": [
    "import pandas as pd\n",
    "import numpy as np\n",
    "import matplotlib.pyplot as plt"
   ]
  },
  {
   "cell_type": "markdown",
   "metadata": {},
   "source": [
    "Defined a variable called “starwars_file”, and assign (=) it to 'StarWars.csv'"
   ]
  },
  {
   "cell_type": "code",
   "execution_count": 3,
   "metadata": {},
   "outputs": [],
   "source": [
    "starwars_file = 'StarWars.csv'"
   ]
  },
  {
   "cell_type": "markdown",
   "metadata": {},
   "source": [
    "Load the CSV data from the file. "
   ]
  },
  {
   "cell_type": "code",
   "execution_count": 4,
   "metadata": {},
   "outputs": [],
   "source": [
    "starwars = pd.read_csv(starwars_file, sep=',', decimal='.',header=None, skiprows =[0,1], index_col=0, encoding = 'unicode_escape', names = ['RespondentID', 'Seen any Star Wars films?', 'A fan of the Star Wars film franchise?', 'Which Star Wars films have you seen? Ep I', 'Which Star Wars films have you seen? Ep II', 'Which Star Wars films have you seen? Ep III', 'Which Star Wars films have you seen? Ep IV', 'Which Star Wars films have you seen? Ep V', 'Which Star Wars films have you seen? Ep VI', 'Rank the Star Wars films (1-6) (favourite to least favourite). Ep I', 'Rank the Star Wars films (1-6) (favourite to least favourite). Ep II', 'Rank the Star Wars films (1-6) (favourite to least favourite). Ep III', 'Rank the Star Wars films (1-6) (favourite to least favourite). Ep IV', 'Rank the Star Wars films (1-6) (favourite to least favourite). Ep V', 'Rank the Star Wars films (1-6) (favourite to least favourite). Ep VI', 'Favorably, unfavorably, or are unfamiliar with him/her. Han Solo', 'Favorably, unfavorably, or are unfamiliar with him/her. Luke Skywalker', 'Favorably, unfavorably, or are unfamiliar with him/her. Princess Leia Organa', 'Favorably, unfavorably, or are unfamiliar with him/her. Anakin Skywalker', 'Favorably, unfavorably, or are unfamiliar with him/her. Obi Wan Kenobi', 'Favorably, unfavorably, or are unfamiliar with him/her. Emperor Palpatine', 'Favorably, unfavorably, or are unfamiliar with him/her. Darth Vader', 'Favorably, unfavorably, or are unfamiliar with him/her. Lando Calrissian', 'Favorably, unfavorably, or are unfamiliar with him/her. Boba Fett', 'Favorably, unfavorably, or are unfamiliar with him/her. C-3P0', 'Favorably, unfavorably, or are unfamiliar with him/her. R2 D2', 'Favorably, unfavorably, or are unfamiliar with him/her. Jar Jar Binks', 'Favorably, unfavorably, or are unfamiliar with him/her. Padme Amidala', 'Favorably, unfavorably, or are unfamiliar with him/her. Yoda', 'Which character shot first?', 'Familiar with the Expanded Universe?', 'A fan of the Expanded Universe?', 'A fan of the Star Trek franchise?', 'Gender', 'Age', 'Household Income', 'Education', 'Location (Census Region)'])"
   ]
  },
  {
   "cell_type": "markdown",
   "metadata": {},
   "source": [
    "Print the first 5 rows to check if the data is loaded correctly"
   ]
  },
  {
   "cell_type": "code",
   "execution_count": 5,
   "metadata": {
    "scrolled": true
   },
   "outputs": [
    {
     "data": {
      "text/html": [
       "<div>\n",
       "<style scoped>\n",
       "    .dataframe tbody tr th:only-of-type {\n",
       "        vertical-align: middle;\n",
       "    }\n",
       "\n",
       "    .dataframe tbody tr th {\n",
       "        vertical-align: top;\n",
       "    }\n",
       "\n",
       "    .dataframe thead th {\n",
       "        text-align: right;\n",
       "    }\n",
       "</style>\n",
       "<table border=\"1\" class=\"dataframe\">\n",
       "  <thead>\n",
       "    <tr style=\"text-align: right;\">\n",
       "      <th></th>\n",
       "      <th>Seen any Star Wars films?</th>\n",
       "      <th>A fan of the Star Wars film franchise?</th>\n",
       "      <th>Which Star Wars films have you seen? Ep I</th>\n",
       "      <th>Which Star Wars films have you seen? Ep II</th>\n",
       "      <th>Which Star Wars films have you seen? Ep III</th>\n",
       "      <th>Which Star Wars films have you seen? Ep IV</th>\n",
       "      <th>Which Star Wars films have you seen? Ep V</th>\n",
       "      <th>Which Star Wars films have you seen? Ep VI</th>\n",
       "      <th>Rank the Star Wars films (1-6) (favourite to least favourite). Ep I</th>\n",
       "      <th>Rank the Star Wars films (1-6) (favourite to least favourite). Ep II</th>\n",
       "      <th>...</th>\n",
       "      <th>Favorably, unfavorably, or are unfamiliar with him/her. Yoda</th>\n",
       "      <th>Which character shot first?</th>\n",
       "      <th>Familiar with the Expanded Universe?</th>\n",
       "      <th>A fan of the Expanded Universe?</th>\n",
       "      <th>A fan of the Star Trek franchise?</th>\n",
       "      <th>Gender</th>\n",
       "      <th>Age</th>\n",
       "      <th>Household Income</th>\n",
       "      <th>Education</th>\n",
       "      <th>Location (Census Region)</th>\n",
       "    </tr>\n",
       "    <tr>\n",
       "      <th>RespondentID</th>\n",
       "      <th></th>\n",
       "      <th></th>\n",
       "      <th></th>\n",
       "      <th></th>\n",
       "      <th></th>\n",
       "      <th></th>\n",
       "      <th></th>\n",
       "      <th></th>\n",
       "      <th></th>\n",
       "      <th></th>\n",
       "      <th></th>\n",
       "      <th></th>\n",
       "      <th></th>\n",
       "      <th></th>\n",
       "      <th></th>\n",
       "      <th></th>\n",
       "      <th></th>\n",
       "      <th></th>\n",
       "      <th></th>\n",
       "      <th></th>\n",
       "      <th></th>\n",
       "    </tr>\n",
       "  </thead>\n",
       "  <tbody>\n",
       "    <tr>\n",
       "      <td>3292879998</td>\n",
       "      <td>Yes</td>\n",
       "      <td>Yes</td>\n",
       "      <td>Star Wars: Episode I  The Phantom Menace</td>\n",
       "      <td>Star Wars: Episode II  Attack of the Clones</td>\n",
       "      <td>Star Wars: Episode III  Revenge of the Sith</td>\n",
       "      <td>Star Wars: Episode IV  A New Hope</td>\n",
       "      <td>Star Wars: Episode V The Empire Strikes Back</td>\n",
       "      <td>Star Wars: Episode VI Return of the Jedi</td>\n",
       "      <td>3.0</td>\n",
       "      <td>2.0</td>\n",
       "      <td>...</td>\n",
       "      <td>Very favorably</td>\n",
       "      <td>I don't understand this question</td>\n",
       "      <td>Yes</td>\n",
       "      <td>No</td>\n",
       "      <td>No</td>\n",
       "      <td>Male</td>\n",
       "      <td>18-29</td>\n",
       "      <td>NaN</td>\n",
       "      <td>High school degree</td>\n",
       "      <td>South Atlantic</td>\n",
       "    </tr>\n",
       "    <tr>\n",
       "      <td>3292879538</td>\n",
       "      <td>No</td>\n",
       "      <td>NaN</td>\n",
       "      <td>NaN</td>\n",
       "      <td>NaN</td>\n",
       "      <td>NaN</td>\n",
       "      <td>NaN</td>\n",
       "      <td>NaN</td>\n",
       "      <td>NaN</td>\n",
       "      <td>NaN</td>\n",
       "      <td>NaN</td>\n",
       "      <td>...</td>\n",
       "      <td>NaN</td>\n",
       "      <td>NaN</td>\n",
       "      <td>NaN</td>\n",
       "      <td>NaN</td>\n",
       "      <td>Yes</td>\n",
       "      <td>Male</td>\n",
       "      <td>18-29</td>\n",
       "      <td>$0 - $24,999</td>\n",
       "      <td>Bachelor degree</td>\n",
       "      <td>West South Central</td>\n",
       "    </tr>\n",
       "    <tr>\n",
       "      <td>3292765271</td>\n",
       "      <td>Yes</td>\n",
       "      <td>No</td>\n",
       "      <td>Star Wars: Episode I  The Phantom Menace</td>\n",
       "      <td>Star Wars: Episode II  Attack of the Clones</td>\n",
       "      <td>Star Wars: Episode III  Revenge of the Sith</td>\n",
       "      <td>NaN</td>\n",
       "      <td>NaN</td>\n",
       "      <td>NaN</td>\n",
       "      <td>1.0</td>\n",
       "      <td>2.0</td>\n",
       "      <td>...</td>\n",
       "      <td>Unfamiliar (N/A)</td>\n",
       "      <td>I don't understand this question</td>\n",
       "      <td>No</td>\n",
       "      <td>NaN</td>\n",
       "      <td>No</td>\n",
       "      <td>Male</td>\n",
       "      <td>18-29</td>\n",
       "      <td>$0 - $24,999</td>\n",
       "      <td>High school degree</td>\n",
       "      <td>West North Central</td>\n",
       "    </tr>\n",
       "    <tr>\n",
       "      <td>3292763116</td>\n",
       "      <td>Yes</td>\n",
       "      <td>Yes</td>\n",
       "      <td>Star Wars: Episode I  The Phantom Menace</td>\n",
       "      <td>Star Wars: Episode II  Attack of the Clones</td>\n",
       "      <td>Star Wars: Episode III  Revenge of the Sith</td>\n",
       "      <td>Star Wars: Episode IV  A New Hope</td>\n",
       "      <td>Star Wars: Episode V The Empire Strikes Back</td>\n",
       "      <td>Star Wars: Episode VI Return of the Jedi</td>\n",
       "      <td>5.0</td>\n",
       "      <td>6.0</td>\n",
       "      <td>...</td>\n",
       "      <td>Very favorably</td>\n",
       "      <td>I don't understand this question</td>\n",
       "      <td>No</td>\n",
       "      <td>NaN</td>\n",
       "      <td>Yes</td>\n",
       "      <td>Male</td>\n",
       "      <td>18-29</td>\n",
       "      <td>$100,000 - $149,999</td>\n",
       "      <td>Some college or Associate degree</td>\n",
       "      <td>West North Central</td>\n",
       "    </tr>\n",
       "    <tr>\n",
       "      <td>3292731220</td>\n",
       "      <td>Yes</td>\n",
       "      <td>Yes</td>\n",
       "      <td>Star Wars: Episode I  The Phantom Menace</td>\n",
       "      <td>Star Wars: Episode II  Attack of the Clones</td>\n",
       "      <td>Star Wars: Episode III  Revenge of the Sith</td>\n",
       "      <td>Star Wars: Episode IV  A New Hope</td>\n",
       "      <td>Star Wars: Episode V The Empire Strikes Back</td>\n",
       "      <td>Star Wars: Episode VI Return of the Jedi</td>\n",
       "      <td>5.0</td>\n",
       "      <td>4.0</td>\n",
       "      <td>...</td>\n",
       "      <td>Somewhat favorably</td>\n",
       "      <td>Greedo</td>\n",
       "      <td>Yes</td>\n",
       "      <td>No</td>\n",
       "      <td>No</td>\n",
       "      <td>Male</td>\n",
       "      <td>18-29</td>\n",
       "      <td>$100,000 - $149,999</td>\n",
       "      <td>Some college or Associate degree</td>\n",
       "      <td>West North Central</td>\n",
       "    </tr>\n",
       "  </tbody>\n",
       "</table>\n",
       "<p>5 rows × 37 columns</p>\n",
       "</div>"
      ],
      "text/plain": [
       "             Seen any Star Wars films? A fan of the Star Wars film franchise?  \\\n",
       "RespondentID                                                                    \n",
       "3292879998                         Yes                                    Yes   \n",
       "3292879538                          No                                    NaN   \n",
       "3292765271                         Yes                                     No   \n",
       "3292763116                         Yes                                    Yes   \n",
       "3292731220                         Yes                                    Yes   \n",
       "\n",
       "             Which Star Wars films have you seen? Ep I  \\\n",
       "RespondentID                                             \n",
       "3292879998    Star Wars: Episode I  The Phantom Menace   \n",
       "3292879538                                         NaN   \n",
       "3292765271    Star Wars: Episode I  The Phantom Menace   \n",
       "3292763116    Star Wars: Episode I  The Phantom Menace   \n",
       "3292731220    Star Wars: Episode I  The Phantom Menace   \n",
       "\n",
       "               Which Star Wars films have you seen? Ep II  \\\n",
       "RespondentID                                                \n",
       "3292879998    Star Wars: Episode II  Attack of the Clones   \n",
       "3292879538                                            NaN   \n",
       "3292765271    Star Wars: Episode II  Attack of the Clones   \n",
       "3292763116    Star Wars: Episode II  Attack of the Clones   \n",
       "3292731220    Star Wars: Episode II  Attack of the Clones   \n",
       "\n",
       "              Which Star Wars films have you seen? Ep III  \\\n",
       "RespondentID                                                \n",
       "3292879998    Star Wars: Episode III  Revenge of the Sith   \n",
       "3292879538                                            NaN   \n",
       "3292765271    Star Wars: Episode III  Revenge of the Sith   \n",
       "3292763116    Star Wars: Episode III  Revenge of the Sith   \n",
       "3292731220    Star Wars: Episode III  Revenge of the Sith   \n",
       "\n",
       "             Which Star Wars films have you seen? Ep IV  \\\n",
       "RespondentID                                              \n",
       "3292879998            Star Wars: Episode IV  A New Hope   \n",
       "3292879538                                          NaN   \n",
       "3292765271                                          NaN   \n",
       "3292763116            Star Wars: Episode IV  A New Hope   \n",
       "3292731220            Star Wars: Episode IV  A New Hope   \n",
       "\n",
       "                 Which Star Wars films have you seen? Ep V  \\\n",
       "RespondentID                                                 \n",
       "3292879998    Star Wars: Episode V The Empire Strikes Back   \n",
       "3292879538                                             NaN   \n",
       "3292765271                                             NaN   \n",
       "3292763116    Star Wars: Episode V The Empire Strikes Back   \n",
       "3292731220    Star Wars: Episode V The Empire Strikes Back   \n",
       "\n",
       "             Which Star Wars films have you seen? Ep VI  \\\n",
       "RespondentID                                              \n",
       "3292879998     Star Wars: Episode VI Return of the Jedi   \n",
       "3292879538                                          NaN   \n",
       "3292765271                                          NaN   \n",
       "3292763116     Star Wars: Episode VI Return of the Jedi   \n",
       "3292731220     Star Wars: Episode VI Return of the Jedi   \n",
       "\n",
       "              Rank the Star Wars films (1-6) (favourite to least favourite). Ep I  \\\n",
       "RespondentID                                                                        \n",
       "3292879998                                                  3.0                     \n",
       "3292879538                                                  NaN                     \n",
       "3292765271                                                  1.0                     \n",
       "3292763116                                                  5.0                     \n",
       "3292731220                                                  5.0                     \n",
       "\n",
       "              Rank the Star Wars films (1-6) (favourite to least favourite). Ep II  \\\n",
       "RespondentID                                                                         \n",
       "3292879998                                                  2.0                      \n",
       "3292879538                                                  NaN                      \n",
       "3292765271                                                  2.0                      \n",
       "3292763116                                                  6.0                      \n",
       "3292731220                                                  4.0                      \n",
       "\n",
       "              ...  \\\n",
       "RespondentID  ...   \n",
       "3292879998    ...   \n",
       "3292879538    ...   \n",
       "3292765271    ...   \n",
       "3292763116    ...   \n",
       "3292731220    ...   \n",
       "\n",
       "              Favorably, unfavorably, or are unfamiliar with him/her. Yoda  \\\n",
       "RespondentID                                                                 \n",
       "3292879998                                       Very favorably              \n",
       "3292879538                                                  NaN              \n",
       "3292765271                                     Unfamiliar (N/A)              \n",
       "3292763116                                       Very favorably              \n",
       "3292731220                                   Somewhat favorably              \n",
       "\n",
       "                   Which character shot first?  \\\n",
       "RespondentID                                     \n",
       "3292879998    I don't understand this question   \n",
       "3292879538                                 NaN   \n",
       "3292765271    I don't understand this question   \n",
       "3292763116    I don't understand this question   \n",
       "3292731220                              Greedo   \n",
       "\n",
       "              Familiar with the Expanded Universe?  \\\n",
       "RespondentID                                         \n",
       "3292879998                                     Yes   \n",
       "3292879538                                     NaN   \n",
       "3292765271                                      No   \n",
       "3292763116                                      No   \n",
       "3292731220                                     Yes   \n",
       "\n",
       "              A fan of the Expanded Universe?  \\\n",
       "RespondentID                                    \n",
       "3292879998                                 No   \n",
       "3292879538                                NaN   \n",
       "3292765271                                NaN   \n",
       "3292763116                                NaN   \n",
       "3292731220                                 No   \n",
       "\n",
       "             A fan of the Star Trek franchise? Gender    Age  \\\n",
       "RespondentID                                                   \n",
       "3292879998                                  No   Male  18-29   \n",
       "3292879538                                 Yes   Male  18-29   \n",
       "3292765271                                  No   Male  18-29   \n",
       "3292763116                                 Yes   Male  18-29   \n",
       "3292731220                                  No   Male  18-29   \n",
       "\n",
       "                 Household Income                         Education  \\\n",
       "RespondentID                                                          \n",
       "3292879998                    NaN                High school degree   \n",
       "3292879538           $0 - $24,999                   Bachelor degree   \n",
       "3292765271           $0 - $24,999                High school degree   \n",
       "3292763116    $100,000 - $149,999  Some college or Associate degree   \n",
       "3292731220    $100,000 - $149,999  Some college or Associate degree   \n",
       "\n",
       "             Location (Census Region)  \n",
       "RespondentID                           \n",
       "3292879998             South Atlantic  \n",
       "3292879538         West South Central  \n",
       "3292765271         West North Central  \n",
       "3292763116         West North Central  \n",
       "3292731220         West North Central  \n",
       "\n",
       "[5 rows x 37 columns]"
      ]
     },
     "execution_count": 5,
     "metadata": {},
     "output_type": "execute_result"
    }
   ],
   "source": [
    "starwars.head()"
   ]
  },
  {
   "cell_type": "markdown",
   "metadata": {},
   "source": [
    "Check the data types of the loaded columns"
   ]
  },
  {
   "cell_type": "code",
   "execution_count": 6,
   "metadata": {
    "scrolled": false
   },
   "outputs": [
    {
     "data": {
      "text/plain": [
       "Seen any Star Wars films?                                                        object\n",
       "A fan of the Star Wars film franchise?                                           object\n",
       "Which Star Wars films have you seen? Ep I                                        object\n",
       "Which Star Wars films have you seen? Ep II                                       object\n",
       "Which Star Wars films have you seen? Ep III                                      object\n",
       "Which Star Wars films have you seen? Ep IV                                       object\n",
       "Which Star Wars films have you seen? Ep V                                        object\n",
       "Which Star Wars films have you seen? Ep VI                                       object\n",
       "Rank the Star Wars films (1-6) (favourite to least favourite). Ep I             float64\n",
       "Rank the Star Wars films (1-6) (favourite to least favourite). Ep II            float64\n",
       "Rank the Star Wars films (1-6) (favourite to least favourite). Ep III           float64\n",
       "Rank the Star Wars films (1-6) (favourite to least favourite). Ep IV            float64\n",
       "Rank the Star Wars films (1-6) (favourite to least favourite). Ep V             float64\n",
       "Rank the Star Wars films (1-6) (favourite to least favourite). Ep VI            float64\n",
       "Favorably, unfavorably, or are unfamiliar with him/her. Han Solo                 object\n",
       "Favorably, unfavorably, or are unfamiliar with him/her. Luke Skywalker           object\n",
       "Favorably, unfavorably, or are unfamiliar with him/her. Princess Leia Organa     object\n",
       "Favorably, unfavorably, or are unfamiliar with him/her. Anakin Skywalker         object\n",
       "Favorably, unfavorably, or are unfamiliar with him/her. Obi Wan Kenobi           object\n",
       "Favorably, unfavorably, or are unfamiliar with him/her. Emperor Palpatine        object\n",
       "Favorably, unfavorably, or are unfamiliar with him/her. Darth Vader              object\n",
       "Favorably, unfavorably, or are unfamiliar with him/her. Lando Calrissian         object\n",
       "Favorably, unfavorably, or are unfamiliar with him/her. Boba Fett                object\n",
       "Favorably, unfavorably, or are unfamiliar with him/her. C-3P0                    object\n",
       "Favorably, unfavorably, or are unfamiliar with him/her. R2 D2                    object\n",
       "Favorably, unfavorably, or are unfamiliar with him/her. Jar Jar Binks            object\n",
       "Favorably, unfavorably, or are unfamiliar with him/her. Padme Amidala            object\n",
       "Favorably, unfavorably, or are unfamiliar with him/her. Yoda                     object\n",
       "Which character shot first?                                                      object\n",
       "Familiar with the Expanded Universe?                                             object\n",
       "A fan of the Expanded Universe?                                                  object\n",
       "A fan of the Star Trek franchise?                                                object\n",
       "Gender                                                                           object\n",
       "Age                                                                              object\n",
       "Household Income                                                                 object\n",
       "Education                                                                        object\n",
       "Location (Census Region)                                                         object\n",
       "dtype: object"
      ]
     },
     "execution_count": 6,
     "metadata": {},
     "output_type": "execute_result"
    }
   ],
   "source": [
    "starwars.dtypes"
   ]
  },
  {
   "cell_type": "markdown",
   "metadata": {},
   "source": [
    "Check the loaded columns"
   ]
  },
  {
   "cell_type": "code",
   "execution_count": 7,
   "metadata": {
    "scrolled": true
   },
   "outputs": [
    {
     "data": {
      "text/plain": [
       "Index(['Seen any Star Wars films?', 'A fan of the Star Wars film franchise?',\n",
       "       'Which Star Wars films have you seen? Ep I',\n",
       "       'Which Star Wars films have you seen? Ep II',\n",
       "       'Which Star Wars films have you seen? Ep III',\n",
       "       'Which Star Wars films have you seen? Ep IV',\n",
       "       'Which Star Wars films have you seen? Ep V',\n",
       "       'Which Star Wars films have you seen? Ep VI',\n",
       "       'Rank the Star Wars films (1-6) (favourite to least favourite). Ep I',\n",
       "       'Rank the Star Wars films (1-6) (favourite to least favourite). Ep II',\n",
       "       'Rank the Star Wars films (1-6) (favourite to least favourite). Ep III',\n",
       "       'Rank the Star Wars films (1-6) (favourite to least favourite). Ep IV',\n",
       "       'Rank the Star Wars films (1-6) (favourite to least favourite). Ep V',\n",
       "       'Rank the Star Wars films (1-6) (favourite to least favourite). Ep VI',\n",
       "       'Favorably, unfavorably, or are unfamiliar with him/her. Han Solo',\n",
       "       'Favorably, unfavorably, or are unfamiliar with him/her. Luke Skywalker',\n",
       "       'Favorably, unfavorably, or are unfamiliar with him/her. Princess Leia Organa',\n",
       "       'Favorably, unfavorably, or are unfamiliar with him/her. Anakin Skywalker',\n",
       "       'Favorably, unfavorably, or are unfamiliar with him/her. Obi Wan Kenobi',\n",
       "       'Favorably, unfavorably, or are unfamiliar with him/her. Emperor Palpatine',\n",
       "       'Favorably, unfavorably, or are unfamiliar with him/her. Darth Vader',\n",
       "       'Favorably, unfavorably, or are unfamiliar with him/her. Lando Calrissian',\n",
       "       'Favorably, unfavorably, or are unfamiliar with him/her. Boba Fett',\n",
       "       'Favorably, unfavorably, or are unfamiliar with him/her. C-3P0',\n",
       "       'Favorably, unfavorably, or are unfamiliar with him/her. R2 D2',\n",
       "       'Favorably, unfavorably, or are unfamiliar with him/her. Jar Jar Binks',\n",
       "       'Favorably, unfavorably, or are unfamiliar with him/her. Padme Amidala',\n",
       "       'Favorably, unfavorably, or are unfamiliar with him/her. Yoda',\n",
       "       'Which character shot first?', 'Familiar with the Expanded Universe?',\n",
       "       'A fan of the Expanded Universe?', 'A fan of the Star Trek franchise?',\n",
       "       'Gender', 'Age', 'Household Income', 'Education',\n",
       "       'Location (Census Region)'],\n",
       "      dtype='object')"
      ]
     },
     "execution_count": 7,
     "metadata": {},
     "output_type": "execute_result"
    }
   ],
   "source": [
    "starwars.columns"
   ]
  },
  {
   "cell_type": "markdown",
   "metadata": {},
   "source": [
    "Check for data entry error and outlier with frequency table"
   ]
  },
  {
   "cell_type": "code",
   "execution_count": 8,
   "metadata": {
    "scrolled": true
   },
   "outputs": [
    {
     "data": {
      "text/plain": [
       "Yes     935\n",
       "No      250\n",
       "Yes       1\n",
       "Name: Seen any Star Wars films?, dtype: int64"
      ]
     },
     "execution_count": 8,
     "metadata": {},
     "output_type": "execute_result"
    }
   ],
   "source": [
    "starwars['Seen any Star Wars films?'].value_counts()"
   ]
  },
  {
   "cell_type": "markdown",
   "metadata": {},
   "source": [
    "Remove redundant whitespace"
   ]
  },
  {
   "cell_type": "code",
   "execution_count": 9,
   "metadata": {},
   "outputs": [],
   "source": [
    "starwars['Seen any Star Wars films?'] = starwars['Seen any Star Wars films?'].str.strip()"
   ]
  },
  {
   "cell_type": "markdown",
   "metadata": {},
   "source": [
    "Check for data entry error and outlier with frequency table again to make sure everything is fixed"
   ]
  },
  {
   "cell_type": "code",
   "execution_count": 10,
   "metadata": {
    "scrolled": true
   },
   "outputs": [
    {
     "data": {
      "text/plain": [
       "Yes    936\n",
       "No     250\n",
       "Name: Seen any Star Wars films?, dtype: int64"
      ]
     },
     "execution_count": 10,
     "metadata": {},
     "output_type": "execute_result"
    }
   ],
   "source": [
    "starwars['Seen any Star Wars films?'].value_counts()"
   ]
  },
  {
   "cell_type": "markdown",
   "metadata": {},
   "source": [
    "Check for data entry error and outlier with frequency table"
   ]
  },
  {
   "cell_type": "code",
   "execution_count": 11,
   "metadata": {},
   "outputs": [
    {
     "data": {
      "text/plain": [
       "Yes     551\n",
       "No      283\n",
       "Noo       1\n",
       "Yess      1\n",
       "Name: A fan of the Star Wars film franchise?, dtype: int64"
      ]
     },
     "execution_count": 11,
     "metadata": {},
     "output_type": "execute_result"
    }
   ],
   "source": [
    "starwars['A fan of the Star Wars film franchise?'].value_counts()"
   ]
  },
  {
   "cell_type": "markdown",
   "metadata": {},
   "source": [
    "Replace data entry error / typo from 'Yess' to 'Yes' and 'Noo' to 'No'"
   ]
  },
  {
   "cell_type": "code",
   "execution_count": 12,
   "metadata": {
    "scrolled": false
   },
   "outputs": [],
   "source": [
    "starwars[\"A fan of the Star Wars film franchise?\"].replace('Yess', 'Yes',inplace=True) \n",
    "starwars[\"A fan of the Star Wars film franchise?\"].replace('Noo', 'No',inplace=True) "
   ]
  },
  {
   "cell_type": "markdown",
   "metadata": {},
   "source": [
    "Check for data entry error and outlier with frequency table again to make sure everything is fixed"
   ]
  },
  {
   "cell_type": "code",
   "execution_count": 13,
   "metadata": {
    "scrolled": true
   },
   "outputs": [
    {
     "data": {
      "text/plain": [
       "Yes    552\n",
       "No     284\n",
       "Name: A fan of the Star Wars film franchise?, dtype: int64"
      ]
     },
     "execution_count": 13,
     "metadata": {},
     "output_type": "execute_result"
    }
   ],
   "source": [
    "starwars['A fan of the Star Wars film franchise?'].value_counts()"
   ]
  },
  {
   "cell_type": "markdown",
   "metadata": {},
   "source": [
    "Check for data entry error and outlier with frequency table"
   ]
  },
  {
   "cell_type": "code",
   "execution_count": 14,
   "metadata": {
    "scrolled": true
   },
   "outputs": [
    {
     "data": {
      "text/plain": [
       "Star Wars: Episode I  The Phantom Menace    673\n",
       "Name: Which Star Wars films have you seen? Ep I, dtype: int64"
      ]
     },
     "execution_count": 14,
     "metadata": {},
     "output_type": "execute_result"
    }
   ],
   "source": [
    "starwars['Which Star Wars films have you seen? Ep I'].value_counts()"
   ]
  },
  {
   "cell_type": "markdown",
   "metadata": {},
   "source": [
    "Check for data entry error and outlier with frequency table"
   ]
  },
  {
   "cell_type": "code",
   "execution_count": 15,
   "metadata": {},
   "outputs": [
    {
     "data": {
      "text/plain": [
       "Star Wars: Episode II  Attack of the Clones    571\n",
       "Name: Which Star Wars films have you seen? Ep II, dtype: int64"
      ]
     },
     "execution_count": 15,
     "metadata": {},
     "output_type": "execute_result"
    }
   ],
   "source": [
    "starwars['Which Star Wars films have you seen? Ep II'].value_counts()"
   ]
  },
  {
   "cell_type": "markdown",
   "metadata": {},
   "source": [
    "Check for data entry error and outlier with frequency table"
   ]
  },
  {
   "cell_type": "code",
   "execution_count": 16,
   "metadata": {
    "scrolled": true
   },
   "outputs": [
    {
     "data": {
      "text/plain": [
       "Star Wars: Episode III  Revenge of the Sith    550\n",
       "Name: Which Star Wars films have you seen? Ep III, dtype: int64"
      ]
     },
     "execution_count": 16,
     "metadata": {},
     "output_type": "execute_result"
    }
   ],
   "source": [
    "starwars['Which Star Wars films have you seen? Ep III'].value_counts()"
   ]
  },
  {
   "cell_type": "markdown",
   "metadata": {},
   "source": [
    "Check for data entry error and outlier with frequency table"
   ]
  },
  {
   "cell_type": "code",
   "execution_count": 17,
   "metadata": {
    "scrolled": true
   },
   "outputs": [
    {
     "data": {
      "text/plain": [
       "Star Wars: Episode IV  A New Hope    607\n",
       "Name: Which Star Wars films have you seen? Ep IV, dtype: int64"
      ]
     },
     "execution_count": 17,
     "metadata": {},
     "output_type": "execute_result"
    }
   ],
   "source": [
    "starwars['Which Star Wars films have you seen? Ep IV'].value_counts()"
   ]
  },
  {
   "cell_type": "markdown",
   "metadata": {},
   "source": [
    "Check for data entry error and outlier with frequency table"
   ]
  },
  {
   "cell_type": "code",
   "execution_count": 18,
   "metadata": {
    "scrolled": true
   },
   "outputs": [
    {
     "data": {
      "text/plain": [
       "Star Wars: Episode V The Empire Strikes Back    758\n",
       "Name: Which Star Wars films have you seen? Ep V, dtype: int64"
      ]
     },
     "execution_count": 18,
     "metadata": {},
     "output_type": "execute_result"
    }
   ],
   "source": [
    "starwars['Which Star Wars films have you seen? Ep V'].value_counts()"
   ]
  },
  {
   "cell_type": "markdown",
   "metadata": {},
   "source": [
    "Check for data entry error and outlier with frequency table"
   ]
  },
  {
   "cell_type": "code",
   "execution_count": 19,
   "metadata": {
    "scrolled": false
   },
   "outputs": [
    {
     "data": {
      "text/plain": [
       "Star Wars: Episode VI Return of the Jedi    738\n",
       "Name: Which Star Wars films have you seen? Ep VI, dtype: int64"
      ]
     },
     "execution_count": 19,
     "metadata": {},
     "output_type": "execute_result"
    }
   ],
   "source": [
    "starwars['Which Star Wars films have you seen? Ep VI'].value_counts()"
   ]
  },
  {
   "cell_type": "markdown",
   "metadata": {},
   "source": [
    "Check for data entry error and outlier with frequency table"
   ]
  },
  {
   "cell_type": "code",
   "execution_count": 20,
   "metadata": {
    "scrolled": true
   },
   "outputs": [
    {
     "data": {
      "text/plain": [
       "4.0    237\n",
       "6.0    168\n",
       "3.0    130\n",
       "1.0    129\n",
       "5.0    100\n",
       "2.0     71\n",
       "Name: Rank the Star Wars films (1-6) (favourite to least favourite). Ep I, dtype: int64"
      ]
     },
     "execution_count": 20,
     "metadata": {},
     "output_type": "execute_result"
    }
   ],
   "source": [
    "starwars['Rank the Star Wars films (1-6) (favourite to least favourite). Ep I'].value_counts()"
   ]
  },
  {
   "cell_type": "markdown",
   "metadata": {},
   "source": [
    "Check for data entry error and outlier with frequency table"
   ]
  },
  {
   "cell_type": "code",
   "execution_count": 21,
   "metadata": {
    "scrolled": false
   },
   "outputs": [
    {
     "data": {
      "text/plain": [
       "5.0    300\n",
       "4.0    183\n",
       "2.0    116\n",
       "3.0    103\n",
       "6.0    102\n",
       "1.0     32\n",
       "Name: Rank the Star Wars films (1-6) (favourite to least favourite). Ep II, dtype: int64"
      ]
     },
     "execution_count": 21,
     "metadata": {},
     "output_type": "execute_result"
    }
   ],
   "source": [
    "starwars['Rank the Star Wars films (1-6) (favourite to least favourite). Ep II'].value_counts()"
   ]
  },
  {
   "cell_type": "markdown",
   "metadata": {},
   "source": [
    "Check for data entry error and outlier with frequency table"
   ]
  },
  {
   "cell_type": "code",
   "execution_count": 22,
   "metadata": {
    "scrolled": true
   },
   "outputs": [
    {
     "data": {
      "text/plain": [
       "6.0    217\n",
       "5.0    203\n",
       "4.0    182\n",
       "3.0    150\n",
       "2.0     47\n",
       "1.0     36\n",
       "Name: Rank the Star Wars films (1-6) (favourite to least favourite). Ep III, dtype: int64"
      ]
     },
     "execution_count": 22,
     "metadata": {},
     "output_type": "execute_result"
    }
   ],
   "source": [
    "starwars['Rank the Star Wars films (1-6) (favourite to least favourite). Ep III'].value_counts()"
   ]
  },
  {
   "cell_type": "markdown",
   "metadata": {},
   "source": [
    "Check for data entry error and outlier with frequency table"
   ]
  },
  {
   "cell_type": "code",
   "execution_count": 23,
   "metadata": {
    "scrolled": true
   },
   "outputs": [
    {
     "data": {
      "text/plain": [
       "1.0    204\n",
       "6.0    161\n",
       "2.0    135\n",
       "4.0    130\n",
       "3.0    127\n",
       "5.0     79\n",
       "Name: Rank the Star Wars films (1-6) (favourite to least favourite). Ep IV, dtype: int64"
      ]
     },
     "execution_count": 23,
     "metadata": {},
     "output_type": "execute_result"
    }
   ],
   "source": [
    "starwars['Rank the Star Wars films (1-6) (favourite to least favourite). Ep IV'].value_counts()"
   ]
  },
  {
   "cell_type": "markdown",
   "metadata": {},
   "source": [
    "Check for data entry error and outlier with frequency table"
   ]
  },
  {
   "cell_type": "code",
   "execution_count": 24,
   "metadata": {
    "scrolled": true
   },
   "outputs": [
    {
     "data": {
      "text/plain": [
       "1.0    289\n",
       "2.0    235\n",
       "5.0    118\n",
       "3.0    106\n",
       "4.0     47\n",
       "6.0     41\n",
       "Name: Rank the Star Wars films (1-6) (favourite to least favourite). Ep V, dtype: int64"
      ]
     },
     "execution_count": 24,
     "metadata": {},
     "output_type": "execute_result"
    }
   ],
   "source": [
    "starwars['Rank the Star Wars films (1-6) (favourite to least favourite). Ep V'].value_counts()"
   ]
  },
  {
   "cell_type": "markdown",
   "metadata": {},
   "source": [
    "Check for data entry error and outlier with frequency table"
   ]
  },
  {
   "cell_type": "code",
   "execution_count": 25,
   "metadata": {
    "scrolled": true
   },
   "outputs": [
    {
     "data": {
      "text/plain": [
       "2.0    232\n",
       "3.0    220\n",
       "1.0    146\n",
       "6.0    145\n",
       "4.0     57\n",
       "5.0     36\n",
       "Name: Rank the Star Wars films (1-6) (favourite to least favourite). Ep VI, dtype: int64"
      ]
     },
     "execution_count": 25,
     "metadata": {},
     "output_type": "execute_result"
    }
   ],
   "source": [
    "starwars['Rank the Star Wars films (1-6) (favourite to least favourite). Ep VI'].value_counts()"
   ]
  },
  {
   "cell_type": "markdown",
   "metadata": {},
   "source": [
    "Check for data entry error and outlier with frequency table"
   ]
  },
  {
   "cell_type": "code",
   "execution_count": 26,
   "metadata": {
    "scrolled": false
   },
   "outputs": [
    {
     "data": {
      "text/plain": [
       "Very favorably                                 610\n",
       "Somewhat favorably                             151\n",
       "Neither favorably nor unfavorably (neutral)     44\n",
       "Unfamiliar (N/A)                                15\n",
       "Somewhat unfavorably                             8\n",
       "Very unfavorably                                 1\n",
       "Name: Favorably, unfavorably, or are unfamiliar with him/her. Han Solo, dtype: int64"
      ]
     },
     "execution_count": 26,
     "metadata": {},
     "output_type": "execute_result"
    }
   ],
   "source": [
    "starwars['Favorably, unfavorably, or are unfamiliar with him/her. Han Solo'].value_counts()"
   ]
  },
  {
   "cell_type": "markdown",
   "metadata": {},
   "source": [
    "Check for data entry error and outlier with frequency table"
   ]
  },
  {
   "cell_type": "code",
   "execution_count": 27,
   "metadata": {
    "scrolled": true
   },
   "outputs": [
    {
     "data": {
      "text/plain": [
       "Very favorably                                 552\n",
       "Somewhat favorably                             219\n",
       "Neither favorably nor unfavorably (neutral)     38\n",
       "Somewhat unfavorably                            13\n",
       "Unfamiliar (N/A)                                 6\n",
       "Very unfavorably                                 3\n",
       "Name: Favorably, unfavorably, or are unfamiliar with him/her. Luke Skywalker, dtype: int64"
      ]
     },
     "execution_count": 27,
     "metadata": {},
     "output_type": "execute_result"
    }
   ],
   "source": [
    "starwars['Favorably, unfavorably, or are unfamiliar with him/her. Luke Skywalker'].value_counts()"
   ]
  },
  {
   "cell_type": "markdown",
   "metadata": {},
   "source": [
    "Check for data entry error and outlier with frequency table"
   ]
  },
  {
   "cell_type": "code",
   "execution_count": 28,
   "metadata": {
    "scrolled": true
   },
   "outputs": [
    {
     "data": {
      "text/plain": [
       "Very favorably                                 547\n",
       "Somewhat favorably                             210\n",
       "Neither favorably nor unfavorably (neutral)     48\n",
       "Somewhat unfavorably                            12\n",
       "Unfamiliar (N/A)                                 8\n",
       "Very unfavorably                                 6\n",
       "Name: Favorably, unfavorably, or are unfamiliar with him/her. Princess Leia Organa, dtype: int64"
      ]
     },
     "execution_count": 28,
     "metadata": {},
     "output_type": "execute_result"
    }
   ],
   "source": [
    "starwars['Favorably, unfavorably, or are unfamiliar with him/her. Princess Leia Organa'].value_counts()"
   ]
  },
  {
   "cell_type": "markdown",
   "metadata": {},
   "source": [
    "Check for data entry error and outlier with frequency table"
   ]
  },
  {
   "cell_type": "code",
   "execution_count": 29,
   "metadata": {
    "scrolled": true
   },
   "outputs": [
    {
     "data": {
      "text/plain": [
       "Somewhat favorably                             269\n",
       "Very favorably                                 245\n",
       "Neither favorably nor unfavorably (neutral)    135\n",
       "Somewhat unfavorably                            83\n",
       "Unfamiliar (N/A)                                52\n",
       "Very unfavorably                                39\n",
       "Name: Favorably, unfavorably, or are unfamiliar with him/her. Anakin Skywalker, dtype: int64"
      ]
     },
     "execution_count": 29,
     "metadata": {},
     "output_type": "execute_result"
    }
   ],
   "source": [
    "starwars['Favorably, unfavorably, or are unfamiliar with him/her. Anakin Skywalker'].value_counts()"
   ]
  },
  {
   "cell_type": "markdown",
   "metadata": {},
   "source": [
    "Check for data entry error and outlier with frequency table"
   ]
  },
  {
   "cell_type": "code",
   "execution_count": 30,
   "metadata": {
    "scrolled": true
   },
   "outputs": [
    {
     "data": {
      "text/plain": [
       "Very favorably                                 591\n",
       "Somewhat favorably                             159\n",
       "Neither favorably nor unfavorably (neutral)     43\n",
       "Unfamiliar (N/A)                                17\n",
       "Somewhat unfavorably                             8\n",
       "Very unfavorably                                 7\n",
       "Name: Favorably, unfavorably, or are unfamiliar with him/her. Obi Wan Kenobi, dtype: int64"
      ]
     },
     "execution_count": 30,
     "metadata": {},
     "output_type": "execute_result"
    }
   ],
   "source": [
    "starwars['Favorably, unfavorably, or are unfamiliar with him/her. Obi Wan Kenobi'].value_counts()"
   ]
  },
  {
   "cell_type": "markdown",
   "metadata": {},
   "source": [
    "Check for data entry error and outlier with frequency table"
   ]
  },
  {
   "cell_type": "code",
   "execution_count": 31,
   "metadata": {
    "scrolled": false
   },
   "outputs": [
    {
     "data": {
      "text/plain": [
       "Neither favorably nor unfavorably (neutral)    213\n",
       "Unfamiliar (N/A)                               156\n",
       "Somewhat favorably                             143\n",
       "Very unfavorably                               124\n",
       "Very favorably                                 110\n",
       "Somewhat unfavorably                            68\n",
       "Name: Favorably, unfavorably, or are unfamiliar with him/her. Emperor Palpatine, dtype: int64"
      ]
     },
     "execution_count": 31,
     "metadata": {},
     "output_type": "execute_result"
    }
   ],
   "source": [
    "starwars['Favorably, unfavorably, or are unfamiliar with him/her. Emperor Palpatine'].value_counts()"
   ]
  },
  {
   "cell_type": "markdown",
   "metadata": {},
   "source": [
    "Check for data entry error and outlier with frequency table"
   ]
  },
  {
   "cell_type": "code",
   "execution_count": 32,
   "metadata": {
    "scrolled": true
   },
   "outputs": [
    {
     "data": {
      "text/plain": [
       "Very favorably                                 310\n",
       "Somewhat favorably                             171\n",
       "Very unfavorably                               149\n",
       "Somewhat unfavorably                           102\n",
       "Neither favorably nor unfavorably (neutral)     84\n",
       "Unfamiliar (N/A)                                10\n",
       "Name: Favorably, unfavorably, or are unfamiliar with him/her. Darth Vader, dtype: int64"
      ]
     },
     "execution_count": 32,
     "metadata": {},
     "output_type": "execute_result"
    }
   ],
   "source": [
    "starwars['Favorably, unfavorably, or are unfamiliar with him/her. Darth Vader'].value_counts()"
   ]
  },
  {
   "cell_type": "markdown",
   "metadata": {},
   "source": [
    "Check for data entry error and outlier with frequency table"
   ]
  },
  {
   "cell_type": "code",
   "execution_count": 33,
   "metadata": {
    "scrolled": true
   },
   "outputs": [
    {
     "data": {
      "text/plain": [
       "Neither favorably nor unfavorably (neutral)    236\n",
       "Somewhat favorably                             223\n",
       "Unfamiliar (N/A)                               148\n",
       "Very favorably                                 142\n",
       "Somewhat unfavorably                            63\n",
       "Very unfavorably                                 8\n",
       "Name: Favorably, unfavorably, or are unfamiliar with him/her. Lando Calrissian, dtype: int64"
      ]
     },
     "execution_count": 33,
     "metadata": {},
     "output_type": "execute_result"
    }
   ],
   "source": [
    "starwars['Favorably, unfavorably, or are unfamiliar with him/her. Lando Calrissian'].value_counts()"
   ]
  },
  {
   "cell_type": "markdown",
   "metadata": {},
   "source": [
    "Check for data entry error and outlier with frequency table"
   ]
  },
  {
   "cell_type": "code",
   "execution_count": 34,
   "metadata": {
    "scrolled": false
   },
   "outputs": [
    {
     "data": {
      "text/plain": [
       "Neither favorably nor unfavorably (neutral)    248\n",
       "Somewhat favorably                             153\n",
       "Very favorably                                 138\n",
       "Unfamiliar (N/A)                               132\n",
       "Somewhat unfavorably                            96\n",
       "Very unfavorably                                45\n",
       "Name: Favorably, unfavorably, or are unfamiliar with him/her. Boba Fett, dtype: int64"
      ]
     },
     "execution_count": 34,
     "metadata": {},
     "output_type": "execute_result"
    }
   ],
   "source": [
    "starwars['Favorably, unfavorably, or are unfamiliar with him/her. Boba Fett'].value_counts()"
   ]
  },
  {
   "cell_type": "markdown",
   "metadata": {},
   "source": [
    "Check for data entry error and outlier with frequency table"
   ]
  },
  {
   "cell_type": "code",
   "execution_count": 35,
   "metadata": {
    "scrolled": true
   },
   "outputs": [
    {
     "data": {
      "text/plain": [
       "Very favorably                                 474\n",
       "Somewhat favorably                             229\n",
       "Neither favorably nor unfavorably (neutral)     79\n",
       "Somewhat unfavorably                            23\n",
       "Unfamiliar (N/A)                                15\n",
       "Very unfavorably                                 7\n",
       "Name: Favorably, unfavorably, or are unfamiliar with him/her. C-3P0, dtype: int64"
      ]
     },
     "execution_count": 35,
     "metadata": {},
     "output_type": "execute_result"
    }
   ],
   "source": [
    "starwars['Favorably, unfavorably, or are unfamiliar with him/her. C-3P0'].value_counts()"
   ]
  },
  {
   "cell_type": "markdown",
   "metadata": {},
   "source": [
    "Check for data entry error and outlier with frequency table"
   ]
  },
  {
   "cell_type": "code",
   "execution_count": 36,
   "metadata": {
    "scrolled": true
   },
   "outputs": [
    {
     "data": {
      "text/plain": [
       "Very favorably                                 562\n",
       "Somewhat favorably                             185\n",
       "Neither favorably nor unfavorably (neutral)     57\n",
       "Unfamiliar (N/A)                                10\n",
       "Somewhat unfavorably                            10\n",
       "Very unfavorably                                 6\n",
       "Name: Favorably, unfavorably, or are unfamiliar with him/her. R2 D2, dtype: int64"
      ]
     },
     "execution_count": 36,
     "metadata": {},
     "output_type": "execute_result"
    }
   ],
   "source": [
    "starwars['Favorably, unfavorably, or are unfamiliar with him/her. R2 D2'].value_counts()"
   ]
  },
  {
   "cell_type": "markdown",
   "metadata": {},
   "source": [
    "Check for data entry error and outlier with frequency table"
   ]
  },
  {
   "cell_type": "code",
   "execution_count": 37,
   "metadata": {
    "scrolled": true
   },
   "outputs": [
    {
     "data": {
      "text/plain": [
       "Very unfavorably                               204\n",
       "Neither favorably nor unfavorably (neutral)    164\n",
       "Somewhat favorably                             130\n",
       "Very favorably                                 112\n",
       "Unfamiliar (N/A)                               109\n",
       "Somewhat unfavorably                           102\n",
       "Name: Favorably, unfavorably, or are unfamiliar with him/her. Jar Jar Binks, dtype: int64"
      ]
     },
     "execution_count": 37,
     "metadata": {},
     "output_type": "execute_result"
    }
   ],
   "source": [
    "starwars['Favorably, unfavorably, or are unfamiliar with him/her. Jar Jar Binks'].value_counts()"
   ]
  },
  {
   "cell_type": "markdown",
   "metadata": {},
   "source": [
    "Check for data entry error and outlier with frequency table"
   ]
  },
  {
   "cell_type": "code",
   "execution_count": 38,
   "metadata": {
    "scrolled": true
   },
   "outputs": [
    {
     "data": {
      "text/plain": [
       "Neither favorably nor unfavorably (neutral)    207\n",
       "Somewhat favorably                             183\n",
       "Very favorably                                 168\n",
       "Unfamiliar (N/A)                               164\n",
       "Somewhat unfavorably                            58\n",
       "Very unfavorably                                34\n",
       "Name: Favorably, unfavorably, or are unfamiliar with him/her. Padme Amidala, dtype: int64"
      ]
     },
     "execution_count": 38,
     "metadata": {},
     "output_type": "execute_result"
    }
   ],
   "source": [
    "starwars['Favorably, unfavorably, or are unfamiliar with him/her. Padme Amidala'].value_counts()"
   ]
  },
  {
   "cell_type": "markdown",
   "metadata": {},
   "source": [
    "Check for data entry error and outlier with frequency table"
   ]
  },
  {
   "cell_type": "code",
   "execution_count": 39,
   "metadata": {
    "scrolled": false
   },
   "outputs": [
    {
     "data": {
      "text/plain": [
       "Very favorably                                 605\n",
       "Somewhat favorably                             144\n",
       "Neither favorably nor unfavorably (neutral)     51\n",
       "Unfamiliar (N/A)                                10\n",
       "Somewhat unfavorably                             8\n",
       "Very unfavorably                                 8\n",
       "Name: Favorably, unfavorably, or are unfamiliar with him/her. Yoda, dtype: int64"
      ]
     },
     "execution_count": 39,
     "metadata": {},
     "output_type": "execute_result"
    }
   ],
   "source": [
    "starwars['Favorably, unfavorably, or are unfamiliar with him/her. Yoda'].value_counts()"
   ]
  },
  {
   "cell_type": "markdown",
   "metadata": {},
   "source": [
    "Check for data entry error and outlier with frequency table"
   ]
  },
  {
   "cell_type": "code",
   "execution_count": 40,
   "metadata": {
    "scrolled": true
   },
   "outputs": [
    {
     "data": {
      "text/plain": [
       "Han                                 325\n",
       "I don't understand this question    306\n",
       "Greedo                              197\n",
       "Name: Which character shot first?, dtype: int64"
      ]
     },
     "execution_count": 40,
     "metadata": {},
     "output_type": "execute_result"
    }
   ],
   "source": [
    "starwars['Which character shot first?'].value_counts()"
   ]
  },
  {
   "cell_type": "markdown",
   "metadata": {},
   "source": [
    "Check for data entry error and outlier with frequency table"
   ]
  },
  {
   "cell_type": "code",
   "execution_count": 41,
   "metadata": {},
   "outputs": [
    {
     "data": {
      "text/plain": [
       "No     615\n",
       "Yes    213\n",
       "Name: Familiar with the Expanded Universe?, dtype: int64"
      ]
     },
     "execution_count": 41,
     "metadata": {},
     "output_type": "execute_result"
    }
   ],
   "source": [
    "starwars['Familiar with the Expanded Universe?'].value_counts()"
   ]
  },
  {
   "cell_type": "markdown",
   "metadata": {},
   "source": [
    "Check for data entry error and outlier with frequency table"
   ]
  },
  {
   "cell_type": "code",
   "execution_count": 42,
   "metadata": {
    "scrolled": true
   },
   "outputs": [
    {
     "data": {
      "text/plain": [
       "No      114\n",
       "Yes      98\n",
       "Yess      1\n",
       "Name: A fan of the Expanded Universe?, dtype: int64"
      ]
     },
     "execution_count": 42,
     "metadata": {},
     "output_type": "execute_result"
    }
   ],
   "source": [
    "starwars['A fan of the Expanded Universe?'].value_counts()"
   ]
  },
  {
   "cell_type": "markdown",
   "metadata": {},
   "source": [
    "Replace data entry error / typo from 'Yess' to 'Yes'"
   ]
  },
  {
   "cell_type": "code",
   "execution_count": 43,
   "metadata": {},
   "outputs": [],
   "source": [
    "starwars['A fan of the Expanded Universe?'].replace('Yess', 'Yes',inplace=True) "
   ]
  },
  {
   "cell_type": "markdown",
   "metadata": {},
   "source": [
    "Check for data entry error and outlier with frequency table again to make sure everything is fixed"
   ]
  },
  {
   "cell_type": "code",
   "execution_count": 44,
   "metadata": {
    "scrolled": true
   },
   "outputs": [
    {
     "data": {
      "text/plain": [
       "No     114\n",
       "Yes     99\n",
       "Name: A fan of the Expanded Universe?, dtype: int64"
      ]
     },
     "execution_count": 44,
     "metadata": {},
     "output_type": "execute_result"
    }
   ],
   "source": [
    "starwars['A fan of the Expanded Universe?'].value_counts()"
   ]
  },
  {
   "cell_type": "markdown",
   "metadata": {},
   "source": [
    "Check for data entry error and outlier with frequency table"
   ]
  },
  {
   "cell_type": "code",
   "execution_count": 45,
   "metadata": {
    "scrolled": false
   },
   "outputs": [
    {
     "data": {
      "text/plain": [
       "No     639\n",
       "Yes    426\n",
       "Noo      1\n",
       "no       1\n",
       "yes      1\n",
       "Name: A fan of the Star Trek franchise?, dtype: int64"
      ]
     },
     "execution_count": 45,
     "metadata": {},
     "output_type": "execute_result"
    }
   ],
   "source": [
    "starwars['A fan of the Star Trek franchise?'].value_counts()"
   ]
  },
  {
   "cell_type": "markdown",
   "metadata": {},
   "source": [
    "Replace data entry error / typo from 'Noo' to 'No'"
   ]
  },
  {
   "cell_type": "code",
   "execution_count": 46,
   "metadata": {},
   "outputs": [],
   "source": [
    "starwars['A fan of the Star Trek franchise?'].replace('Noo', 'No',inplace=True) "
   ]
  },
  {
   "cell_type": "markdown",
   "metadata": {},
   "source": [
    "Capitalize all string values"
   ]
  },
  {
   "cell_type": "code",
   "execution_count": 47,
   "metadata": {},
   "outputs": [],
   "source": [
    "for x in starwars.columns:\n",
    "    if starwars[x].dtype == object:\n",
    "        starwars[x] = starwars[x].str.capitalize()"
   ]
  },
  {
   "cell_type": "markdown",
   "metadata": {},
   "source": [
    "Remove redundant whitespace"
   ]
  },
  {
   "cell_type": "code",
   "execution_count": 48,
   "metadata": {},
   "outputs": [],
   "source": [
    "starwars['A fan of the Star Trek franchise?'] = starwars['A fan of the Star Trek franchise?'].str.strip()"
   ]
  },
  {
   "cell_type": "markdown",
   "metadata": {},
   "source": [
    "Check for data entry error and outlier with frequency table again to make sure everything is fixed"
   ]
  },
  {
   "cell_type": "code",
   "execution_count": 49,
   "metadata": {
    "scrolled": false
   },
   "outputs": [
    {
     "data": {
      "text/plain": [
       "No     641\n",
       "Yes    427\n",
       "Name: A fan of the Star Trek franchise?, dtype: int64"
      ]
     },
     "execution_count": 49,
     "metadata": {},
     "output_type": "execute_result"
    }
   ],
   "source": [
    "starwars['A fan of the Star Trek franchise?'].value_counts()"
   ]
  },
  {
   "cell_type": "markdown",
   "metadata": {},
   "source": [
    "Check for data entry error and outlier with frequency table"
   ]
  },
  {
   "cell_type": "code",
   "execution_count": 50,
   "metadata": {
    "scrolled": true
   },
   "outputs": [
    {
     "data": {
      "text/plain": [
       "Female    548\n",
       "Male      497\n",
       "F           1\n",
       "Name: Gender, dtype: int64"
      ]
     },
     "execution_count": 50,
     "metadata": {},
     "output_type": "execute_result"
    }
   ],
   "source": [
    "starwars['Gender'].value_counts()"
   ]
  },
  {
   "cell_type": "markdown",
   "metadata": {},
   "source": [
    "Replace data entry error / typo from 'F' to 'Female'"
   ]
  },
  {
   "cell_type": "code",
   "execution_count": 51,
   "metadata": {},
   "outputs": [],
   "source": [
    "starwars['Gender'].replace('F', 'Female',inplace=True) "
   ]
  },
  {
   "cell_type": "markdown",
   "metadata": {},
   "source": [
    "Check for data entry error and outlier with frequency table again to make sure everything is fixed"
   ]
  },
  {
   "cell_type": "code",
   "execution_count": 52,
   "metadata": {},
   "outputs": [
    {
     "data": {
      "text/plain": [
       "Female    549\n",
       "Male      497\n",
       "Name: Gender, dtype: int64"
      ]
     },
     "execution_count": 52,
     "metadata": {},
     "output_type": "execute_result"
    }
   ],
   "source": [
    "starwars['Gender'].value_counts()"
   ]
  },
  {
   "cell_type": "markdown",
   "metadata": {},
   "source": [
    "Check for data entry error and outlier with frequency table"
   ]
  },
  {
   "cell_type": "code",
   "execution_count": 53,
   "metadata": {
    "scrolled": true
   },
   "outputs": [
    {
     "data": {
      "text/plain": [
       "45-60    291\n",
       "> 60     269\n",
       "30-44    268\n",
       "18-29    217\n",
       "500        1\n",
       "Name: Age, dtype: int64"
      ]
     },
     "execution_count": 53,
     "metadata": {},
     "output_type": "execute_result"
    }
   ],
   "source": [
    "starwars['Age'].value_counts()"
   ]
  },
  {
   "cell_type": "markdown",
   "metadata": {},
   "source": [
    "Get the index/row, where Age is 500"
   ]
  },
  {
   "cell_type": "code",
   "execution_count": 54,
   "metadata": {},
   "outputs": [
    {
     "data": {
      "text/plain": [
       "[3292609214]"
      ]
     },
     "execution_count": 54,
     "metadata": {},
     "output_type": "execute_result"
    }
   ],
   "source": [
    "starwars.index[starwars['Age'] == '500'].tolist()"
   ]
  },
  {
   "cell_type": "markdown",
   "metadata": {},
   "source": [
    "Check is it the correct row with Age listed as 500"
   ]
  },
  {
   "cell_type": "code",
   "execution_count": 55,
   "metadata": {
    "scrolled": false
   },
   "outputs": [
    {
     "data": {
      "text/plain": [
       "Seen any Star Wars films?                                                                                                Yes\n",
       "A fan of the Star Wars film franchise?                                                                                    No\n",
       "Which Star Wars films have you seen? Ep I                                           Star wars: episode i  the phantom menace\n",
       "Which Star Wars films have you seen? Ep II                                       Star wars: episode ii  attack of the clones\n",
       "Which Star Wars films have you seen? Ep III                                      Star wars: episode iii  revenge of the sith\n",
       "Which Star Wars films have you seen? Ep IV                                                 Star wars: episode iv  a new hope\n",
       "Which Star Wars films have you seen? Ep V                                       Star wars: episode v the empire strikes back\n",
       "Which Star Wars films have you seen? Ep VI                                          Star wars: episode vi return of the jedi\n",
       "Rank the Star Wars films (1-6) (favourite to least favourite). Ep I                                                        3\n",
       "Rank the Star Wars films (1-6) (favourite to least favourite). Ep II                                                       4\n",
       "Rank the Star Wars films (1-6) (favourite to least favourite). Ep III                                                      5\n",
       "Rank the Star Wars films (1-6) (favourite to least favourite). Ep IV                                                       6\n",
       "Rank the Star Wars films (1-6) (favourite to least favourite). Ep V                                                        1\n",
       "Rank the Star Wars films (1-6) (favourite to least favourite). Ep VI                                                       2\n",
       "Favorably, unfavorably, or are unfamiliar with him/her. Han Solo                                          Somewhat favorably\n",
       "Favorably, unfavorably, or are unfamiliar with him/her. Luke Skywalker                                        Very favorably\n",
       "Favorably, unfavorably, or are unfamiliar with him/her. Princess Leia Organa                              Somewhat favorably\n",
       "Favorably, unfavorably, or are unfamiliar with him/her. Anakin Skywalker                                  Somewhat favorably\n",
       "Favorably, unfavorably, or are unfamiliar with him/her. Obi Wan Kenobi                                    Somewhat favorably\n",
       "Favorably, unfavorably, or are unfamiliar with him/her. Emperor Palpatine                                 Somewhat favorably\n",
       "Favorably, unfavorably, or are unfamiliar with him/her. Darth Vader                                           Very favorably\n",
       "Favorably, unfavorably, or are unfamiliar with him/her. Lando Calrissian         Neither favorably nor unfavorably (neutral)\n",
       "Favorably, unfavorably, or are unfamiliar with him/her. Boba Fett                                         Somewhat favorably\n",
       "Favorably, unfavorably, or are unfamiliar with him/her. C-3P0                                                 Very favorably\n",
       "Favorably, unfavorably, or are unfamiliar with him/her. R2 D2                                                 Very favorably\n",
       "Favorably, unfavorably, or are unfamiliar with him/her. Jar Jar Binks                                         Very favorably\n",
       "Favorably, unfavorably, or are unfamiliar with him/her. Padme Amidala                                     Somewhat favorably\n",
       "Favorably, unfavorably, or are unfamiliar with him/her. Yoda                                                  Very favorably\n",
       "Which character shot first?                                                                                           Greedo\n",
       "Familiar with the Expanded Universe?                                                                                      No\n",
       "A fan of the Expanded Universe?                                                                                          NaN\n",
       "A fan of the Star Trek franchise?                                                                                         No\n",
       "Gender                                                                                                                  Male\n",
       "Age                                                                                                                      500\n",
       "Household Income                                                                                           $25,000 - $49,999\n",
       "Education                                                                                                    Bachelor degree\n",
       "Location (Census Region)                                                                                      South atlantic\n",
       "Name: 3292609214, dtype: object"
      ]
     },
     "execution_count": 55,
     "metadata": {},
     "output_type": "execute_result"
    }
   ],
   "source": [
    "starwars.loc[3292609214]"
   ]
  },
  {
   "cell_type": "markdown",
   "metadata": {},
   "source": [
    "Change it to NaN"
   ]
  },
  {
   "cell_type": "code",
   "execution_count": 56,
   "metadata": {},
   "outputs": [],
   "source": [
    "starwars.loc[3292609214, 'Age'] = np.nan \n",
    "#Same with:\n",
    "#starwars['Age'].replace('500', np.nan,inplace=True) "
   ]
  },
  {
   "cell_type": "markdown",
   "metadata": {},
   "source": [
    "Check for data entry error and outlier with frequency table again to make sure everything is fixed"
   ]
  },
  {
   "cell_type": "code",
   "execution_count": 57,
   "metadata": {
    "scrolled": false
   },
   "outputs": [
    {
     "data": {
      "text/plain": [
       "45-60    291\n",
       "> 60     269\n",
       "30-44    268\n",
       "18-29    217\n",
       "Name: Age, dtype: int64"
      ]
     },
     "execution_count": 57,
     "metadata": {},
     "output_type": "execute_result"
    }
   ],
   "source": [
    "starwars['Age'].value_counts()"
   ]
  },
  {
   "cell_type": "markdown",
   "metadata": {},
   "source": [
    "Check for data entry error and outlier with frequency table"
   ]
  },
  {
   "cell_type": "code",
   "execution_count": 58,
   "metadata": {
    "scrolled": true
   },
   "outputs": [
    {
     "data": {
      "text/plain": [
       "$50,000 - $99,999      298\n",
       "$25,000 - $49,999      186\n",
       "$100,000 - $149,999    141\n",
       "$0 - $24,999           138\n",
       "$150,000+               95\n",
       "Name: Household Income, dtype: int64"
      ]
     },
     "execution_count": 58,
     "metadata": {},
     "output_type": "execute_result"
    }
   ],
   "source": [
    "starwars['Household Income'].value_counts()"
   ]
  },
  {
   "cell_type": "markdown",
   "metadata": {},
   "source": [
    "Check for data entry error and outlier with frequency table"
   ]
  },
  {
   "cell_type": "code",
   "execution_count": 59,
   "metadata": {
    "scrolled": true
   },
   "outputs": [
    {
     "data": {
      "text/plain": [
       "Some college or associate degree    328\n",
       "Bachelor degree                     321\n",
       "Graduate degree                     275\n",
       "High school degree                  105\n",
       "Less than high school degree          7\n",
       "Name: Education, dtype: int64"
      ]
     },
     "execution_count": 59,
     "metadata": {},
     "output_type": "execute_result"
    }
   ],
   "source": [
    "starwars['Education'].value_counts()"
   ]
  },
  {
   "cell_type": "markdown",
   "metadata": {},
   "source": [
    "Check for data entry error and outlier with frequency table"
   ]
  },
  {
   "cell_type": "code",
   "execution_count": 60,
   "metadata": {
    "scrolled": true
   },
   "outputs": [
    {
     "data": {
      "text/plain": [
       "East north central    181\n",
       "Pacific               175\n",
       "South atlantic        170\n",
       "Middle atlantic       122\n",
       "West south central    110\n",
       "West north central     93\n",
       "Mountain               79\n",
       "New england            75\n",
       "East south central     38\n",
       "Name: Location (Census Region), dtype: int64"
      ]
     },
     "execution_count": 60,
     "metadata": {},
     "output_type": "execute_result"
    }
   ],
   "source": [
    "starwars['Location (Census Region)'].value_counts()"
   ]
  },
  {
   "cell_type": "markdown",
   "metadata": {},
   "source": [
    "Check whether the loaded data has any missing values"
   ]
  },
  {
   "cell_type": "code",
   "execution_count": 61,
   "metadata": {
    "scrolled": false
   },
   "outputs": [
    {
     "data": {
      "text/plain": [
       "Seen any Star Wars films?                                                         0\n",
       "A fan of the Star Wars film franchise?                                          350\n",
       "Which Star Wars films have you seen? Ep I                                       513\n",
       "Which Star Wars films have you seen? Ep II                                      615\n",
       "Which Star Wars films have you seen? Ep III                                     636\n",
       "Which Star Wars films have you seen? Ep IV                                      579\n",
       "Which Star Wars films have you seen? Ep V                                       428\n",
       "Which Star Wars films have you seen? Ep VI                                      448\n",
       "Rank the Star Wars films (1-6) (favourite to least favourite). Ep I             351\n",
       "Rank the Star Wars films (1-6) (favourite to least favourite). Ep II            350\n",
       "Rank the Star Wars films (1-6) (favourite to least favourite). Ep III           351\n",
       "Rank the Star Wars films (1-6) (favourite to least favourite). Ep IV            350\n",
       "Rank the Star Wars films (1-6) (favourite to least favourite). Ep V             350\n",
       "Rank the Star Wars films (1-6) (favourite to least favourite). Ep VI            350\n",
       "Favorably, unfavorably, or are unfamiliar with him/her. Han Solo                357\n",
       "Favorably, unfavorably, or are unfamiliar with him/her. Luke Skywalker          355\n",
       "Favorably, unfavorably, or are unfamiliar with him/her. Princess Leia Organa    355\n",
       "Favorably, unfavorably, or are unfamiliar with him/her. Anakin Skywalker        363\n",
       "Favorably, unfavorably, or are unfamiliar with him/her. Obi Wan Kenobi          361\n",
       "Favorably, unfavorably, or are unfamiliar with him/her. Emperor Palpatine       372\n",
       "Favorably, unfavorably, or are unfamiliar with him/her. Darth Vader             360\n",
       "Favorably, unfavorably, or are unfamiliar with him/her. Lando Calrissian        366\n",
       "Favorably, unfavorably, or are unfamiliar with him/her. Boba Fett               374\n",
       "Favorably, unfavorably, or are unfamiliar with him/her. C-3P0                   359\n",
       "Favorably, unfavorably, or are unfamiliar with him/her. R2 D2                   356\n",
       "Favorably, unfavorably, or are unfamiliar with him/her. Jar Jar Binks           365\n",
       "Favorably, unfavorably, or are unfamiliar with him/her. Padme Amidala           372\n",
       "Favorably, unfavorably, or are unfamiliar with him/her. Yoda                    360\n",
       "Which character shot first?                                                     358\n",
       "Familiar with the Expanded Universe?                                            358\n",
       "A fan of the Expanded Universe?                                                 973\n",
       "A fan of the Star Trek franchise?                                               118\n",
       "Gender                                                                          140\n",
       "Age                                                                             141\n",
       "Household Income                                                                328\n",
       "Education                                                                       150\n",
       "Location (Census Region)                                                        143\n",
       "dtype: int64"
      ]
     },
     "execution_count": 61,
     "metadata": {},
     "output_type": "execute_result"
    }
   ],
   "source": [
    "starwars.isna().sum()"
   ]
  },
  {
   "cell_type": "markdown",
   "metadata": {},
   "source": [
    "Fill missing values for the episodes ranking with their column's mean"
   ]
  },
  {
   "cell_type": "code",
   "execution_count": 62,
   "metadata": {},
   "outputs": [],
   "source": [
    "starwars['Rank the Star Wars films (1-6) (favourite to least favourite). Ep I'].fillna(starwars['Rank the Star Wars films (1-6) (favourite to least favourite). Ep I'].mean(axis=0),inplace=True)\n",
    "starwars['Rank the Star Wars films (1-6) (favourite to least favourite). Ep II'].fillna(starwars['Rank the Star Wars films (1-6) (favourite to least favourite). Ep II'].mean(axis=0),inplace=True)\n",
    "starwars['Rank the Star Wars films (1-6) (favourite to least favourite). Ep III'].fillna(starwars['Rank the Star Wars films (1-6) (favourite to least favourite). Ep III'].mean(axis=0),inplace=True)\n",
    "starwars['Rank the Star Wars films (1-6) (favourite to least favourite). Ep IV'].fillna(starwars['Rank the Star Wars films (1-6) (favourite to least favourite). Ep IV'].mean(axis=0),inplace=True)\n",
    "starwars['Rank the Star Wars films (1-6) (favourite to least favourite). Ep V'].fillna(starwars['Rank the Star Wars films (1-6) (favourite to least favourite). Ep V'].mean(axis=0),inplace=True)\n",
    "starwars['Rank the Star Wars films (1-6) (favourite to least favourite). Ep VI'].fillna(starwars['Rank the Star Wars films (1-6) (favourite to least favourite). Ep VI'].mean(axis=0),inplace=True)"
   ]
  },
  {
   "cell_type": "markdown",
   "metadata": {},
   "source": [
    "Fill all missing values with negative constant value (-1) to mark the fact that they are different from others"
   ]
  },
  {
   "cell_type": "code",
   "execution_count": 63,
   "metadata": {
    "scrolled": true
   },
   "outputs": [],
   "source": [
    "starwars.fillna(-1, inplace = True)"
   ]
  },
  {
   "cell_type": "markdown",
   "metadata": {},
   "source": [
    "Recheck whether the missing values has been fixed"
   ]
  },
  {
   "cell_type": "code",
   "execution_count": 64,
   "metadata": {
    "scrolled": false
   },
   "outputs": [
    {
     "data": {
      "text/plain": [
       "Seen any Star Wars films?                                                       0\n",
       "A fan of the Star Wars film franchise?                                          0\n",
       "Which Star Wars films have you seen? Ep I                                       0\n",
       "Which Star Wars films have you seen? Ep II                                      0\n",
       "Which Star Wars films have you seen? Ep III                                     0\n",
       "Which Star Wars films have you seen? Ep IV                                      0\n",
       "Which Star Wars films have you seen? Ep V                                       0\n",
       "Which Star Wars films have you seen? Ep VI                                      0\n",
       "Rank the Star Wars films (1-6) (favourite to least favourite). Ep I             0\n",
       "Rank the Star Wars films (1-6) (favourite to least favourite). Ep II            0\n",
       "Rank the Star Wars films (1-6) (favourite to least favourite). Ep III           0\n",
       "Rank the Star Wars films (1-6) (favourite to least favourite). Ep IV            0\n",
       "Rank the Star Wars films (1-6) (favourite to least favourite). Ep V             0\n",
       "Rank the Star Wars films (1-6) (favourite to least favourite). Ep VI            0\n",
       "Favorably, unfavorably, or are unfamiliar with him/her. Han Solo                0\n",
       "Favorably, unfavorably, or are unfamiliar with him/her. Luke Skywalker          0\n",
       "Favorably, unfavorably, or are unfamiliar with him/her. Princess Leia Organa    0\n",
       "Favorably, unfavorably, or are unfamiliar with him/her. Anakin Skywalker        0\n",
       "Favorably, unfavorably, or are unfamiliar with him/her. Obi Wan Kenobi          0\n",
       "Favorably, unfavorably, or are unfamiliar with him/her. Emperor Palpatine       0\n",
       "Favorably, unfavorably, or are unfamiliar with him/her. Darth Vader             0\n",
       "Favorably, unfavorably, or are unfamiliar with him/her. Lando Calrissian        0\n",
       "Favorably, unfavorably, or are unfamiliar with him/her. Boba Fett               0\n",
       "Favorably, unfavorably, or are unfamiliar with him/her. C-3P0                   0\n",
       "Favorably, unfavorably, or are unfamiliar with him/her. R2 D2                   0\n",
       "Favorably, unfavorably, or are unfamiliar with him/her. Jar Jar Binks           0\n",
       "Favorably, unfavorably, or are unfamiliar with him/her. Padme Amidala           0\n",
       "Favorably, unfavorably, or are unfamiliar with him/her. Yoda                    0\n",
       "Which character shot first?                                                     0\n",
       "Familiar with the Expanded Universe?                                            0\n",
       "A fan of the Expanded Universe?                                                 0\n",
       "A fan of the Star Trek franchise?                                               0\n",
       "Gender                                                                          0\n",
       "Age                                                                             0\n",
       "Household Income                                                                0\n",
       "Education                                                                       0\n",
       "Location (Census Region)                                                        0\n",
       "dtype: int64"
      ]
     },
     "execution_count": 64,
     "metadata": {},
     "output_type": "execute_result"
    }
   ],
   "source": [
    "starwars.isna().sum()"
   ]
  },
  {
   "cell_type": "markdown",
   "metadata": {},
   "source": [
    "Check again to confirm whether the loaded data has any missing values"
   ]
  },
  {
   "cell_type": "code",
   "execution_count": 65,
   "metadata": {
    "scrolled": false
   },
   "outputs": [
    {
     "data": {
      "text/plain": [
       "False"
      ]
     },
     "execution_count": 65,
     "metadata": {},
     "output_type": "execute_result"
    }
   ],
   "source": [
    " starwars.isnull().any().any()"
   ]
  },
  {
   "cell_type": "code",
   "execution_count": 66,
   "metadata": {},
   "outputs": [],
   "source": [
    "# Task 2: Data Exploration\n",
    "# 1. Explore the survey question: \\textit{Please rank the Star Wars films in order of preference with 1 being your favorite film in the franchise and 6 being your least favorite film.\t(Star Wars: Episode I  The Phantom Menace; Star Wars: Episode II  Attack of the Clones; Star Wars: Episode III  Revenge of the Sith;\tStar Wars: Episode IV  A New Hope; Star Wars: Episode V The Empire Strikes Back; Star Wars: Episode VI Return of the Jedi)}, then analysis how people rate Star Wars Movies. \n",
    "\n",
    "\n",
    "#Code goes after this line by adding cells"
   ]
  },
  {
   "cell_type": "markdown",
   "metadata": {},
   "source": [
    "Get the mean from each of the episodes and assign them to ranking_data."
   ]
  },
  {
   "cell_type": "code",
   "execution_count": 67,
   "metadata": {},
   "outputs": [
    {
     "data": {
      "text/plain": [
       "{'rank_mean': {'Rank the Star Wars films (1-6) (favourite to least favourite). Ep I': 3.7329341317364944,\n",
       "  'Rank the Star Wars films (1-6) (favourite to least favourite). Ep II': 4.0873205741626935,\n",
       "  'Rank the Star Wars films (1-6) (favourite to least favourite). Ep III': 4.341317365269471,\n",
       "  'Rank the Star Wars films (1-6) (favourite to least favourite). Ep IV': 3.2727272727272996,\n",
       "  'Rank the Star Wars films (1-6) (favourite to least favourite). Ep V': 2.5131578947368287,\n",
       "  'Rank the Star Wars films (1-6) (favourite to least favourite). Ep VI': 3.0478468899521687}}"
      ]
     },
     "execution_count": 67,
     "metadata": {},
     "output_type": "execute_result"
    }
   ],
   "source": [
    "episodes = ['Rank the Star Wars films (1-6) (favourite to least favourite). Ep I', 'Rank the Star Wars films (1-6) (favourite to least favourite). Ep II', 'Rank the Star Wars films (1-6) (favourite to least favourite). Ep III', 'Rank the Star Wars films (1-6) (favourite to least favourite). Ep IV', 'Rank the Star Wars films (1-6) (favourite to least favourite). Ep V', 'Rank the Star Wars films (1-6) (favourite to least favourite). Ep VI']\n",
    "ranking_data = {}\n",
    "ranking = {}\n",
    "\n",
    "for episode in episodes:   \n",
    "    ranking[episode] = starwars[episode].mean()\n",
    "\n",
    "ranking_data['rank_mean'] = ranking\n",
    "ranking_data"
   ]
  },
  {
   "cell_type": "markdown",
   "metadata": {},
   "source": [
    "Make a bar graph for Average Rank by Star Wars Episodes"
   ]
  },
  {
   "cell_type": "code",
   "execution_count": 68,
   "metadata": {},
   "outputs": [
    {
     "data": {
      "image/png": "[encoded data removed]",
      "text/plain": [
       "<Figure size 432x288 with 1 Axes>"
      ]
     },
     "metadata": {
      "needs_background": "light"
     },
     "output_type": "display_data"
    }
   ],
   "source": [
    "rank = sorted(ranking_data['rank_mean'].items())\n",
    "plt.bar(range(len(ranking_data['rank_mean'])), [x[1] for x in rank], align='center')\n",
    "plt.xticks(range(len(ranking_data['rank_mean'])), ['Ep I', 'Ep II', 'Ep III', 'Ep IV', 'Ep V', 'Ep VI'])\n",
    "plt.ylabel('Rank')\n",
    "plt.title('Average Rank by Star Wars Episodes')\n",
    "plt.show()"
   ]
  },
  {
   "cell_type": "markdown",
   "metadata": {},
   "source": [
    "Analysis:\n",
    "Episodes with lower rank indicates better performance and favourite, while episodes with higher rank indicates bad performance and less favourite since they were rated with a scale from 1-6 (in order of preference with 1 being your favourite film in the franchise and 6 being your least favourite film). \n",
    "\n",
    "From the graph, we can see that \"Star Wars: Episode V The Empire Strikes Back\" performs the best (most favourite), while \"Star Wars: Episode III Revenge of the Sith\" performs the worst (least favourite). Ep V comes with a mean of 2.51, followed by Ep VI (mean: 3.05), Ep IV (mean: 3.27), Ep I (mean: 3.73), Ep II (mean: 4.09) and Ep III (mean: 4.34).\n",
    "\n",
    "According to Wikipedia, Ep IV, Ep V and Ep VI are the original trilogy of the Star Wars film franchise, while Ep I, Ep II and Ep III are the prequel trilogy of the Star Wars film franchise. From the information retrieved, we found that people tend to prefer the original trilogy compared to the prequel trilogy. Also, it is interesting to note that Ep IV, Ep V and Ep VI are older films, while Ep I, Ep II and Ep III are newer films. From the analysis, we found that people prefer the older Star Wars films compared to the newer Star Wars films. Moreover, the prequel trilogy shows a declining trend on the more recent Star Wars films (Ep I, Ep II & Ep III). In my opinion, the audience might prefer older films because they found the Star Wars film fresh during that period when it was first debuted and love the unique plot as well as the interesting settings in space, which never had been seen before.\n"
   ]
  },
  {
   "cell_type": "code",
   "execution_count": 69,
   "metadata": {},
   "outputs": [],
   "source": [
    "# Task 2: Data Exploration\n",
    "# 2. Explore the relationships between columns; at least 3 visualisations with plausible hypothesis\n",
    "\n",
    "#Code goes after this line by adding cells"
   ]
  },
  {
   "cell_type": "markdown",
   "metadata": {},
   "source": [
    "Make a side-by-side bar graph for the relationship between Seen Any Star Wars Films and A Fan of Star Wars Film Franchise"
   ]
  },
  {
   "cell_type": "code",
   "execution_count": 70,
   "metadata": {
    "scrolled": false
   },
   "outputs": [
    {
     "data": {
      "image/png": "[encoded data removed]",
      "text/plain": [
       "<Figure size 432x288 with 1 Axes>"
      ]
     },
     "metadata": {
      "needs_background": "light"
     },
     "output_type": "display_data"
    }
   ],
   "source": [
    "grp = starwars[['Seen any Star Wars films?','A fan of the Star Wars film franchise?']].groupby(['A fan of the Star Wars film franchise?','Seen any Star Wars films?'])\n",
    "myorder = ['Yes', 'No']\n",
    "reordered = grp.size().reindex(myorder,level =0)\n",
    "reordered.unstack().plot.bar()\n",
    "plt.ylabel('Number of People')\n",
    "plt.title(\"Relationship between Seen Any Star Wars Films and A Fan of Star Wars Film Franchise\")\n",
    "plt.show()"
   ]
  },
  {
   "cell_type": "markdown",
   "metadata": {},
   "source": [
    "Get the count for people who seen any Star Wars films"
   ]
  },
  {
   "cell_type": "code",
   "execution_count": 71,
   "metadata": {
    "scrolled": true
   },
   "outputs": [
    {
     "data": {
      "text/plain": [
       "Seen any Star Wars films?                                                       936\n",
       "A fan of the Star Wars film franchise?                                          936\n",
       "Which Star Wars films have you seen? Ep I                                       936\n",
       "Which Star Wars films have you seen? Ep II                                      936\n",
       "Which Star Wars films have you seen? Ep III                                     936\n",
       "Which Star Wars films have you seen? Ep IV                                      936\n",
       "Which Star Wars films have you seen? Ep V                                       936\n",
       "Which Star Wars films have you seen? Ep VI                                      936\n",
       "Rank the Star Wars films (1-6) (favourite to least favourite). Ep I             936\n",
       "Rank the Star Wars films (1-6) (favourite to least favourite). Ep II            936\n",
       "Rank the Star Wars films (1-6) (favourite to least favourite). Ep III           936\n",
       "Rank the Star Wars films (1-6) (favourite to least favourite). Ep IV            936\n",
       "Rank the Star Wars films (1-6) (favourite to least favourite). Ep V             936\n",
       "Rank the Star Wars films (1-6) (favourite to least favourite). Ep VI            936\n",
       "Favorably, unfavorably, or are unfamiliar with him/her. Han Solo                936\n",
       "Favorably, unfavorably, or are unfamiliar with him/her. Luke Skywalker          936\n",
       "Favorably, unfavorably, or are unfamiliar with him/her. Princess Leia Organa    936\n",
       "Favorably, unfavorably, or are unfamiliar with him/her. Anakin Skywalker        936\n",
       "Favorably, unfavorably, or are unfamiliar with him/her. Obi Wan Kenobi          936\n",
       "Favorably, unfavorably, or are unfamiliar with him/her. Emperor Palpatine       936\n",
       "Favorably, unfavorably, or are unfamiliar with him/her. Darth Vader             936\n",
       "Favorably, unfavorably, or are unfamiliar with him/her. Lando Calrissian        936\n",
       "Favorably, unfavorably, or are unfamiliar with him/her. Boba Fett               936\n",
       "Favorably, unfavorably, or are unfamiliar with him/her. C-3P0                   936\n",
       "Favorably, unfavorably, or are unfamiliar with him/her. R2 D2                   936\n",
       "Favorably, unfavorably, or are unfamiliar with him/her. Jar Jar Binks           936\n",
       "Favorably, unfavorably, or are unfamiliar with him/her. Padme Amidala           936\n",
       "Favorably, unfavorably, or are unfamiliar with him/her. Yoda                    936\n",
       "Which character shot first?                                                     936\n",
       "Familiar with the Expanded Universe?                                            936\n",
       "A fan of the Expanded Universe?                                                 936\n",
       "A fan of the Star Trek franchise?                                               936\n",
       "Gender                                                                          936\n",
       "Age                                                                             936\n",
       "Household Income                                                                936\n",
       "Education                                                                       936\n",
       "Location (Census Region)                                                        936\n",
       "dtype: int64"
      ]
     },
     "execution_count": 71,
     "metadata": {},
     "output_type": "execute_result"
    }
   ],
   "source": [
    "seen_sw = starwars[starwars[\"Seen any Star Wars films?\"] == 'Yes']\n",
    "seen_sw.count()"
   ]
  },
  {
   "cell_type": "markdown",
   "metadata": {},
   "source": [
    "Get the count for people who seen any Star Wars films and a fan of the Star Wars film franchise"
   ]
  },
  {
   "cell_type": "code",
   "execution_count": 72,
   "metadata": {},
   "outputs": [
    {
     "data": {
      "text/plain": [
       "552.0"
      ]
     },
     "execution_count": 72,
     "metadata": {},
     "output_type": "execute_result"
    }
   ],
   "source": [
    "seen_sw['A fan of the Star Wars film franchise?'].str.count(\"Yes\").sum()"
   ]
  },
  {
   "cell_type": "markdown",
   "metadata": {},
   "source": [
    "Get the count for people who seen any Star Wars films and not a fan of the Star Wars film franchise"
   ]
  },
  {
   "cell_type": "code",
   "execution_count": 73,
   "metadata": {},
   "outputs": [
    {
     "data": {
      "text/plain": [
       "284.0"
      ]
     },
     "execution_count": 73,
     "metadata": {},
     "output_type": "execute_result"
    }
   ],
   "source": [
    "seen_sw['A fan of the Star Wars film franchise?'].str.count(\"No\").sum()"
   ]
  },
  {
   "cell_type": "markdown",
   "metadata": {},
   "source": [
    "Make a side-by-side bar graph for the relationship between Familiar with the Expanded Universe and Which Character Shot First"
   ]
  },
  {
   "cell_type": "code",
   "execution_count": 74,
   "metadata": {
    "scrolled": false
   },
   "outputs": [
    {
     "data": {
      "image/png": "[encoded data removed]",
      "text/plain": [
       "<Figure size 432x288 with 1 Axes>"
      ]
     },
     "metadata": {
      "needs_background": "light"
     },
     "output_type": "display_data"
    }
   ],
   "source": [
    "grp = starwars[['Familiar with the Expanded Universe?','Which character shot first?']].groupby(['Which character shot first?','Familiar with the Expanded Universe?'])\n",
    "myorder = ['Han', 'Greedo', \"I don't understand this question\"]\n",
    "reordered = grp.size().reindex(myorder,level =0)\n",
    "reordered.unstack().plot.bar()\n",
    "plt.title(\"Relationship between Familiar with the Expanded Universe and Which Character Shot First\")\n",
    "index = np.arange(len(myorder))\n",
    "plt.xticks(index, ['Han', 'Greedo', \"Don't\\n understand\"])\n",
    "plt.ylabel('Number of People')\n",
    "plt.show()"
   ]
  },
  {
   "cell_type": "markdown",
   "metadata": {},
   "source": [
    "Get the count for people who are familiar with the expanded universe and chose Han as the character shot first"
   ]
  },
  {
   "cell_type": "code",
   "execution_count": 75,
   "metadata": {},
   "outputs": [
    {
     "data": {
      "text/plain": [
       "122"
      ]
     },
     "execution_count": 75,
     "metadata": {},
     "output_type": "execute_result"
    }
   ],
   "source": [
    "familar_expanded = starwars[starwars[\"Familiar with the Expanded Universe?\"] == 'Yes']\n",
    "familar_expanded['Which character shot first?'].str.count('Han').sum()"
   ]
  },
  {
   "cell_type": "markdown",
   "metadata": {},
   "source": [
    "Get the count for people who are familiar with the expanded universe and chose Greedo as the character shot first"
   ]
  },
  {
   "cell_type": "code",
   "execution_count": 76,
   "metadata": {},
   "outputs": [
    {
     "data": {
      "text/plain": [
       "64"
      ]
     },
     "execution_count": 76,
     "metadata": {},
     "output_type": "execute_result"
    }
   ],
   "source": [
    "familar_expanded['Which character shot first?'].str.count('Greedo').sum()"
   ]
  },
  {
   "cell_type": "markdown",
   "metadata": {},
   "source": [
    "Get the count for people who are familiar with the expanded universe and chose \"I don't understand this question\""
   ]
  },
  {
   "cell_type": "code",
   "execution_count": 77,
   "metadata": {},
   "outputs": [
    {
     "data": {
      "text/plain": [
       "27"
      ]
     },
     "execution_count": 77,
     "metadata": {},
     "output_type": "execute_result"
    }
   ],
   "source": [
    "familar_expanded['Which character shot first?'].str.count(\"I don't understand this question\").sum()"
   ]
  },
  {
   "cell_type": "markdown",
   "metadata": {},
   "source": [
    "Get the count for people who are not familiar with the expanded universe and chose Han as the character shot first"
   ]
  },
  {
   "cell_type": "code",
   "execution_count": 78,
   "metadata": {},
   "outputs": [
    {
     "data": {
      "text/plain": [
       "203"
      ]
     },
     "execution_count": 78,
     "metadata": {},
     "output_type": "execute_result"
    }
   ],
   "source": [
    "notfamilar_expanded = starwars[starwars[\"Familiar with the Expanded Universe?\"] == 'No']\n",
    "notfamilar_expanded['Which character shot first?'].str.count('Han').sum()"
   ]
  },
  {
   "cell_type": "markdown",
   "metadata": {},
   "source": [
    "Get the count for people who are not familiar with the expanded universe and chose Greedo as the character shot first"
   ]
  },
  {
   "cell_type": "code",
   "execution_count": 79,
   "metadata": {},
   "outputs": [
    {
     "data": {
      "text/plain": [
       "133"
      ]
     },
     "execution_count": 79,
     "metadata": {},
     "output_type": "execute_result"
    }
   ],
   "source": [
    "notfamilar_expanded['Which character shot first?'].str.count('Greedo').sum()"
   ]
  },
  {
   "cell_type": "markdown",
   "metadata": {},
   "source": [
    "Get the count for people who are not familiar with the expanded universe and chose \"I don't understand this question\""
   ]
  },
  {
   "cell_type": "code",
   "execution_count": 80,
   "metadata": {
    "scrolled": true
   },
   "outputs": [
    {
     "data": {
      "text/plain": [
       "279"
      ]
     },
     "execution_count": 80,
     "metadata": {},
     "output_type": "execute_result"
    }
   ],
   "source": [
    "notfamilar_expanded['Which character shot first?'].str.count(\"I don't understand this question\").sum()"
   ]
  },
  {
   "cell_type": "markdown",
   "metadata": {},
   "source": [
    "Make a copy of the original Star Wars data frame to eliminate all -1, which are previously NaN values"
   ]
  },
  {
   "cell_type": "code",
   "execution_count": 81,
   "metadata": {
    "scrolled": true
   },
   "outputs": [
    {
     "data": {
      "text/plain": [
       "No     114\n",
       "Yes     99\n",
       "Name: A fan of the Expanded Universe?, dtype: int64"
      ]
     },
     "execution_count": 81,
     "metadata": {},
     "output_type": "execute_result"
    }
   ],
   "source": [
    "starwars_copy = starwars.copy()\n",
    "starwars_copy = starwars_copy[starwars_copy['A fan of the Expanded Universe?'] != -1]\n",
    "starwars_copy['A fan of the Expanded Universe?'].value_counts()"
   ]
  },
  {
   "cell_type": "markdown",
   "metadata": {},
   "source": [
    "Make a side-by-side bar graph for the relationship between A fan of the Expanded Universe and A fan of the Star Trek franchise"
   ]
  },
  {
   "cell_type": "code",
   "execution_count": 82,
   "metadata": {
    "scrolled": true
   },
   "outputs": [
    {
     "data": {
      "image/png": "[encoded data removed]",
      "text/plain": [
       "<Figure size 432x288 with 1 Axes>"
      ]
     },
     "metadata": {
      "needs_background": "light"
     },
     "output_type": "display_data"
    }
   ],
   "source": [
    "grp = starwars_copy[['A fan of the Expanded Universe?','A fan of the Star Trek franchise?']].groupby(['A fan of the Star Trek franchise?','A fan of the Expanded Universe?'])\n",
    "myorder = ['Yes', 'No']\n",
    "reordered = grp.size().reindex(myorder,level =0)\n",
    "reordered.unstack().plot.bar()\n",
    "plt.title(\"Relationship between A fan of the Expanded Universe and A fan of the Star Trek franchise\")\n",
    "plt.ylabel('Number of People')\n",
    "plt.show()"
   ]
  },
  {
   "cell_type": "markdown",
   "metadata": {},
   "source": [
    "Get the count for people who are a fan of the expanded universe and a fan of the Star Trek franchise"
   ]
  },
  {
   "cell_type": "code",
   "execution_count": 83,
   "metadata": {},
   "outputs": [
    {
     "data": {
      "text/plain": [
       "72"
      ]
     },
     "execution_count": 83,
     "metadata": {},
     "output_type": "execute_result"
    }
   ],
   "source": [
    "fan_expanded = starwars[starwars[\"A fan of the Expanded Universe?\"] == 'Yes']\n",
    "fan_expanded['A fan of the Star Trek franchise?'].str.count(\"Yes\").sum()"
   ]
  },
  {
   "cell_type": "markdown",
   "metadata": {},
   "source": [
    "Get the count for people who are a fan of the expanded universe and not a fan of the Star Trek franchise"
   ]
  },
  {
   "cell_type": "code",
   "execution_count": 84,
   "metadata": {},
   "outputs": [
    {
     "data": {
      "text/plain": [
       "27"
      ]
     },
     "execution_count": 84,
     "metadata": {},
     "output_type": "execute_result"
    }
   ],
   "source": [
    "fan_expanded['A fan of the Star Trek franchise?'].str.count(\"No\").sum()"
   ]
  },
  {
   "cell_type": "markdown",
   "metadata": {},
   "source": [
    "Get the count for people who are not a fan of the expanded universe and a fan of the Star Trek franchise"
   ]
  },
  {
   "cell_type": "code",
   "execution_count": 85,
   "metadata": {},
   "outputs": [
    {
     "data": {
      "text/plain": [
       "69"
      ]
     },
     "execution_count": 85,
     "metadata": {},
     "output_type": "execute_result"
    }
   ],
   "source": [
    "notfan_expanded = starwars[starwars[\"A fan of the Expanded Universe?\"] == 'No']\n",
    "notfan_expanded['A fan of the Star Trek franchise?'].str.count(\"Yes\").sum()"
   ]
  },
  {
   "cell_type": "markdown",
   "metadata": {},
   "source": [
    "Get the count for people who are not a fan of the expanded universe and not a fan of the Star Trek franchise"
   ]
  },
  {
   "cell_type": "code",
   "execution_count": 86,
   "metadata": {},
   "outputs": [
    {
     "data": {
      "text/plain": [
       "45"
      ]
     },
     "execution_count": 86,
     "metadata": {},
     "output_type": "execute_result"
    }
   ],
   "source": [
    "notfan_expanded['A fan of the Star Trek franchise?'].str.count(\"No\").sum()"
   ]
  },
  {
   "cell_type": "code",
   "execution_count": 87,
   "metadata": {},
   "outputs": [],
   "source": [
    "# Task 2: Data Exploration\n",
    "# 3. Explore whether there are relationship between people's demographics (Gender, Age, Household Income, Education, Location) and their attitude to Start War characters. \n",
    "\n",
    "#Code goes after this line by adding cells"
   ]
  },
  {
   "cell_type": "markdown",
   "metadata": {},
   "source": [
    "Make a copy of the original Star Wars data frame to eliminate all -1, which are previously NaN values"
   ]
  },
  {
   "cell_type": "code",
   "execution_count": 88,
   "metadata": {},
   "outputs": [
    {
     "data": {
      "text/plain": [
       "Female    549\n",
       "Male      497\n",
       "Name: Gender, dtype: int64"
      ]
     },
     "execution_count": 88,
     "metadata": {},
     "output_type": "execute_result"
    }
   ],
   "source": [
    "starwars_copy1 = starwars.copy()\n",
    "starwars_copy1 = starwars_copy1[starwars_copy1['Gender'] != -1]\n",
    "starwars_copy1['Gender'].value_counts()"
   ]
  },
  {
   "cell_type": "markdown",
   "metadata": {},
   "source": [
    "Make a side-by-side bar graph for the relationships between Gender and their attitude to Start War characters."
   ]
  },
  {
   "cell_type": "code",
   "execution_count": 89,
   "metadata": {
    "scrolled": true
   },
   "outputs": [
    {
     "data": {
      "image/png": "[encoded data removed]",
      "text/plain": [
       "<Figure size 432x288 with 1 Axes>"
      ]
     },
     "metadata": {
      "needs_background": "light"
     },
     "output_type": "display_data"
    },
    {
     "data": {
      "image/png": "[encoded data removed]",
      "text/plain": [
       "<Figure size 432x288 with 1 Axes>"
      ]
     },
     "metadata": {
      "needs_background": "light"
     },
     "output_type": "display_data"
    },
    {
     "data": {
      "image/png": "[encoded data removed]",
      "text/plain": [
       "<Figure size 432x288 with 1 Axes>"
      ]
     },
     "metadata": {
      "needs_background": "light"
     },
     "output_type": "display_data"
    }
   ],
   "source": [
    "grp = starwars_copy1[['Gender','Favorably, unfavorably, or are unfamiliar with him/her. Han Solo']].groupby(['Favorably, unfavorably, or are unfamiliar with him/her. Han Solo','Gender'])\n",
    "myorder = [\n",
    "'Very favorably',\n",
    "'Somewhat favorably',\n",
    "'Neither favorably nor unfavorably (neutral)',\n",
    "'Unfamiliar (n/a)',\n",
    "'Somewhat unfavorably',\n",
    "'Very unfavorably']\n",
    "reordered = grp.size().reindex(myorder,level =0)\n",
    "reordered.unstack().plot.bar()\n",
    "plt.title(\"Relationship between Gender and their attitude to Han Solo\")\n",
    "plt.ylabel('Number of People')\n",
    "index = np.arange(len(myorder))\n",
    "plt.xticks(index, [\n",
    "'Very favorably',\n",
    "'Somewhat favorably',\n",
    "'Neutral',\n",
    "'Unfamiliar (n/a)',\n",
    "'Somewhat unfavorably',\n",
    "'Very unfavorably'])\n",
    "plt.show()\n",
    "\n",
    "grp = starwars_copy1[['Gender','Favorably, unfavorably, or are unfamiliar with him/her. Darth Vader']].groupby(['Favorably, unfavorably, or are unfamiliar with him/her. Darth Vader','Gender'])\n",
    "myorder = ['Very favorably',\n",
    "'Somewhat favorably',\n",
    "'Neither favorably nor unfavorably (neutral)',\n",
    "'Unfamiliar (n/a)',\n",
    "'Somewhat unfavorably',\n",
    "'Very unfavorably']\n",
    "reordered = grp.size().reindex(myorder,level =0)\n",
    "reordered.unstack().plot.bar()\n",
    "plt.title(\"Relationship between Gender and their attitude to Darth Vader\")\n",
    "plt.ylabel('Number of People')\n",
    "index = np.arange(len(myorder))\n",
    "plt.xticks(index, [\n",
    "'Very favorably',\n",
    "'Somewhat favorably',\n",
    "'Neutral',\n",
    "'Unfamiliar (n/a)',\n",
    "'Somewhat unfavorably',\n",
    "'Very unfavorably'])\n",
    "plt.show()\n",
    "\n",
    "grp = starwars_copy1[['Gender','Favorably, unfavorably, or are unfamiliar with him/her. Jar Jar Binks']].groupby(['Favorably, unfavorably, or are unfamiliar with him/her. Jar Jar Binks','Gender'])\n",
    "myorder = ['Very favorably',\n",
    "'Somewhat favorably',\n",
    "'Neither favorably nor unfavorably (neutral)',\n",
    "'Unfamiliar (n/a)',\n",
    "'Somewhat unfavorably',\n",
    "'Very unfavorably']\n",
    "reordered = grp.size().reindex(myorder,level =0)\n",
    "reordered.unstack().plot.bar()\n",
    "plt.title(\"Relationship between Gender and their attitude to Jar Jar Binks\")\n",
    "plt.ylabel('Number of People')\n",
    "index = np.arange(len(myorder))\n",
    "plt.xticks(index, [\n",
    "'Very favorably',\n",
    "'Somewhat favorably',\n",
    "'Neutral',\n",
    "'Unfamiliar (n/a)',\n",
    "'Somewhat unfavorably',\n",
    "'Very unfavorably'])\n",
    "plt.show()\n",
    "\n",
    "\n"
   ]
  },
  {
   "cell_type": "markdown",
   "metadata": {},
   "source": [
    "Make a copy of the original Star Wars data frame to eliminate all -1, which are previously NaN values"
   ]
  },
  {
   "cell_type": "code",
   "execution_count": 90,
   "metadata": {
    "scrolled": true
   },
   "outputs": [
    {
     "data": {
      "text/plain": [
       "45-60    291\n",
       "> 60     269\n",
       "30-44    268\n",
       "18-29    217\n",
       "Name: Age, dtype: int64"
      ]
     },
     "execution_count": 90,
     "metadata": {},
     "output_type": "execute_result"
    }
   ],
   "source": [
    "starwars_copy2 = starwars.copy()\n",
    "starwars_copy2 = starwars_copy2[starwars_copy2['Age'] != -1]\n",
    "starwars_copy2['Age'].value_counts()"
   ]
  },
  {
   "cell_type": "markdown",
   "metadata": {},
   "source": [
    "Make a side-by-side bar graph for the relationships between Age and their attitude to Start War characters."
   ]
  },
  {
   "cell_type": "code",
   "execution_count": 91,
   "metadata": {
    "scrolled": false
   },
   "outputs": [
    {
     "data": {
      "image/png": "[encoded data removed]",
      "text/plain": [
       "<Figure size 432x288 with 1 Axes>"
      ]
     },
     "metadata": {
      "needs_background": "light"
     },
     "output_type": "display_data"
    },
    {
     "data": {
      "image/png": "[encoded data removed]",
      "text/plain": [
       "<Figure size 432x288 with 1 Axes>"
      ]
     },
     "metadata": {
      "needs_background": "light"
     },
     "output_type": "display_data"
    },
    {
     "data": {
      "image/png": "[encoded data removed]",
      "text/plain": [
       "<Figure size 432x288 with 1 Axes>"
      ]
     },
     "metadata": {
      "needs_background": "light"
     },
     "output_type": "display_data"
    }
   ],
   "source": [
    "grp = starwars_copy2[['Age','Favorably, unfavorably, or are unfamiliar with him/her. Han Solo']].groupby(['Favorably, unfavorably, or are unfamiliar with him/her. Han Solo','Age'])\n",
    "myorder = [\n",
    "'Very favorably',\n",
    "'Somewhat favorably',\n",
    "'Neither favorably nor unfavorably (neutral)',\n",
    "'Unfamiliar (n/a)',\n",
    "'Somewhat unfavorably',\n",
    "'Very unfavorably']\n",
    "reordered = grp.size().reindex(myorder,level =0)\n",
    "reordered.unstack().plot.bar()\n",
    "plt.title(\"Relationship between Age and their attitude to Han Solo\")\n",
    "plt.ylabel('Number of People')\n",
    "index = np.arange(len(myorder))\n",
    "plt.xticks(index, [\n",
    "'Very favorably',\n",
    "'Somewhat favorably',\n",
    "'Neutral',\n",
    "'Unfamiliar (n/a)',\n",
    "'Somewhat unfavorably',\n",
    "'Very unfavorably'])\n",
    "plt.show()\n",
    "\n",
    "grp = starwars_copy2[['Age','Favorably, unfavorably, or are unfamiliar with him/her. Darth Vader']].groupby(['Favorably, unfavorably, or are unfamiliar with him/her. Darth Vader','Age'])\n",
    "myorder = ['Very favorably',\n",
    "'Somewhat favorably',\n",
    "'Neither favorably nor unfavorably (neutral)',\n",
    "'Unfamiliar (n/a)',\n",
    "'Somewhat unfavorably',\n",
    "'Very unfavorably']\n",
    "reordered = grp.size().reindex(myorder,level =0)\n",
    "reordered.unstack().plot.bar()\n",
    "plt.title(\"Relationship between Age and their attitude to Darth Vader\")\n",
    "plt.ylabel('Number of People')\n",
    "index = np.arange(len(myorder))\n",
    "plt.xticks(index, [\n",
    "'Very favorably',\n",
    "'Somewhat favorably',\n",
    "'Neutral',\n",
    "'Unfamiliar (n/a)',\n",
    "'Somewhat unfavorably',\n",
    "'Very unfavorably'])\n",
    "plt.show()\n",
    "\n",
    "grp = starwars_copy2[['Age','Favorably, unfavorably, or are unfamiliar with him/her. Jar Jar Binks']].groupby(['Favorably, unfavorably, or are unfamiliar with him/her. Jar Jar Binks','Age'])\n",
    "myorder = ['Very favorably',\n",
    "'Somewhat favorably',\n",
    "'Neither favorably nor unfavorably (neutral)',\n",
    "'Unfamiliar (n/a)',\n",
    "'Somewhat unfavorably',\n",
    "'Very unfavorably']\n",
    "reordered = grp.size().reindex(myorder,level =0)\n",
    "reordered.unstack().plot.bar()\n",
    "plt.title(\"Relationship between Age and their attitude to Jar Jar Binks\")\n",
    "plt.ylabel('Number of People')\n",
    "index = np.arange(len(myorder))\n",
    "plt.xticks(index, [\n",
    "'Very favorably',\n",
    "'Somewhat favorably',\n",
    "'Neutral',\n",
    "'Unfamiliar (n/a)',\n",
    "'Somewhat unfavorably',\n",
    "'Very unfavorably'])\n",
    "plt.show()"
   ]
  },
  {
   "cell_type": "markdown",
   "metadata": {},
   "source": [
    "Make a copy of the original Star Wars data frame to eliminate all -1, which are previously NaN values"
   ]
  },
  {
   "cell_type": "code",
   "execution_count": 92,
   "metadata": {
    "scrolled": true
   },
   "outputs": [
    {
     "data": {
      "text/plain": [
       "$50,000 - $99,999      298\n",
       "$25,000 - $49,999      186\n",
       "$100,000 - $149,999    141\n",
       "$0 - $24,999           138\n",
       "$150,000+               95\n",
       "Name: Household Income, dtype: int64"
      ]
     },
     "execution_count": 92,
     "metadata": {},
     "output_type": "execute_result"
    }
   ],
   "source": [
    "starwars_copy3 = starwars.copy()\n",
    "starwars_copy3 = starwars_copy3[starwars_copy3['Household Income'] != -1]\n",
    "starwars_copy3['Household Income'].value_counts()"
   ]
  },
  {
   "cell_type": "markdown",
   "metadata": {},
   "source": [
    "Make a side-by-side bar graph for the relationships between Household Income and their attitude to Start War characters."
   ]
  },
  {
   "cell_type": "code",
   "execution_count": 93,
   "metadata": {
    "scrolled": false
   },
   "outputs": [
    {
     "data": {
      "image/png": "[encoded data removed]",
      "text/plain": [
       "<Figure size 432x288 with 1 Axes>"
      ]
     },
     "metadata": {
      "needs_background": "light"
     },
     "output_type": "display_data"
    },
    {
     "data": {
      "image/png": "[encoded data removed]",
      "text/plain": [
       "<Figure size 432x288 with 1 Axes>"
      ]
     },
     "metadata": {
      "needs_background": "light"
     },
     "output_type": "display_data"
    },
    {
     "data": {
      "image/png": "[encoded data removed]",
      "text/plain": [
       "<Figure size 432x288 with 1 Axes>"
      ]
     },
     "metadata": {
      "needs_background": "light"
     },
     "output_type": "display_data"
    }
   ],
   "source": [
    "grp = starwars_copy3[['Household Income','Favorably, unfavorably, or are unfamiliar with him/her. Han Solo']].groupby(['Favorably, unfavorably, or are unfamiliar with him/her. Han Solo','Household Income'])\n",
    "myorder = [\n",
    "'Very favorably',\n",
    "'Somewhat favorably',\n",
    "'Neither favorably nor unfavorably (neutral)',\n",
    "'Unfamiliar (n/a)',\n",
    "'Somewhat unfavorably',\n",
    "'Very unfavorably']\n",
    "reordered = grp.size().reindex(myorder,level =0)\n",
    "reordered.unstack().plot.bar()\n",
    "plt.title(\"Relationship between Household Income and their attitude to Han Solo\")\n",
    "plt.ylabel('Number of People')\n",
    "index = np.arange(len(myorder))\n",
    "plt.xticks(index, [\n",
    "'Very favorably',\n",
    "'Somewhat favorably',\n",
    "'Neutral',\n",
    "'Unfamiliar (n/a)',\n",
    "'Somewhat unfavorably',\n",
    "'Very unfavorably'])\n",
    "plt.show()\n",
    "\n",
    "grp = starwars_copy3[['Household Income','Favorably, unfavorably, or are unfamiliar with him/her. Darth Vader']].groupby(['Favorably, unfavorably, or are unfamiliar with him/her. Darth Vader','Household Income'])\n",
    "myorder = ['Very favorably',\n",
    "'Somewhat favorably',\n",
    "'Neither favorably nor unfavorably (neutral)',\n",
    "'Unfamiliar (n/a)',\n",
    "'Somewhat unfavorably',\n",
    "'Very unfavorably']\n",
    "reordered = grp.size().reindex(myorder,level =0)\n",
    "reordered.unstack().plot.bar()\n",
    "plt.title(\"Relationship between Household Income and their attitude to Darth Vader\")\n",
    "plt.ylabel('Number of People')\n",
    "index = np.arange(len(myorder))\n",
    "plt.xticks(index, [\n",
    "'Very favorably',\n",
    "'Somewhat favorably',\n",
    "'Neutral',\n",
    "'Unfamiliar (n/a)',\n",
    "'Somewhat unfavorably',\n",
    "'Very unfavorably'])\n",
    "plt.show()\n",
    "\n",
    "grp = starwars_copy3[['Household Income','Favorably, unfavorably, or are unfamiliar with him/her. Jar Jar Binks']].groupby(['Favorably, unfavorably, or are unfamiliar with him/her. Jar Jar Binks','Household Income'])\n",
    "myorder = ['Very favorably',\n",
    "'Somewhat favorably',\n",
    "'Neither favorably nor unfavorably (neutral)',\n",
    "'Unfamiliar (n/a)',\n",
    "'Somewhat unfavorably',\n",
    "'Very unfavorably']\n",
    "reordered = grp.size().reindex(myorder,level =0)\n",
    "reordered.unstack().plot.bar()\n",
    "plt.title(\"Relationship between Household Income and their attitude to Jar Jar Binks\")\n",
    "plt.ylabel('Number of People')\n",
    "index = np.arange(len(myorder))\n",
    "plt.xticks(index, [\n",
    "'Very favorably',\n",
    "'Somewhat favorably',\n",
    "'Neutral',\n",
    "'Unfamiliar (n/a)',\n",
    "'Somewhat unfavorably',\n",
    "'Very unfavorably'])\n",
    "plt.show()"
   ]
  },
  {
   "cell_type": "markdown",
   "metadata": {},
   "source": [
    "Make a copy of the original Star Wars data frame to eliminate all -1, which are previously NaN values"
   ]
  },
  {
   "cell_type": "code",
   "execution_count": 94,
   "metadata": {
    "scrolled": true
   },
   "outputs": [
    {
     "data": {
      "text/plain": [
       "Some college or associate degree    328\n",
       "Bachelor degree                     321\n",
       "Graduate degree                     275\n",
       "High school degree                  105\n",
       "Less than high school degree          7\n",
       "Name: Education, dtype: int64"
      ]
     },
     "execution_count": 94,
     "metadata": {},
     "output_type": "execute_result"
    }
   ],
   "source": [
    "starwars_copy4 = starwars.copy()\n",
    "starwars_copy4 = starwars_copy4[starwars_copy4['Education'] != -1]\n",
    "starwars_copy4['Education'].value_counts()"
   ]
  },
  {
   "cell_type": "markdown",
   "metadata": {},
   "source": [
    "Make a side-by-side bar graph for the relationships between Education and their attitude to Start War characters."
   ]
  },
  {
   "cell_type": "code",
   "execution_count": 95,
   "metadata": {
    "scrolled": false
   },
   "outputs": [
    {
     "data": {
      "image/png": "[encoded data removed]",
      "text/plain": [
       "<Figure size 432x288 with 1 Axes>"
      ]
     },
     "metadata": {
      "needs_background": "light"
     },
     "output_type": "display_data"
    },
    {
     "data": {
      "image/png": "[encoded data removed]",
      "text/plain": [
       "<Figure size 432x288 with 1 Axes>"
      ]
     },
     "metadata": {
      "needs_background": "light"
     },
     "output_type": "display_data"
    },
    {
     "data": {
      "image/png": "[encoded data removed]",
      "text/plain": [
       "<Figure size 432x288 with 1 Axes>"
      ]
     },
     "metadata": {
      "needs_background": "light"
     },
     "output_type": "display_data"
    }
   ],
   "source": [
    "grp = starwars_copy4[['Education','Favorably, unfavorably, or are unfamiliar with him/her. Han Solo']].groupby(['Favorably, unfavorably, or are unfamiliar with him/her. Han Solo','Education'])\n",
    "myorder = [\n",
    "'Very favorably',\n",
    "'Somewhat favorably',\n",
    "'Neither favorably nor unfavorably (neutral)',\n",
    "'Unfamiliar (n/a)',\n",
    "'Somewhat unfavorably',\n",
    "'Very unfavorably']\n",
    "reordered = grp.size().reindex(myorder,level =0)\n",
    "reordered.unstack().plot.bar()\n",
    "plt.title(\"Relationship between Education and their attitude to Han Solo\")\n",
    "plt.ylabel('Number of People')\n",
    "index = np.arange(len(myorder))\n",
    "plt.xticks(index, [\n",
    "'Very favorably',\n",
    "'Somewhat favorably',\n",
    "'Neutral',\n",
    "'Unfamiliar (n/a)',\n",
    "'Somewhat unfavorably',\n",
    "'Very unfavorably'])\n",
    "plt.show()\n",
    "\n",
    "grp = starwars_copy4[['Education','Favorably, unfavorably, or are unfamiliar with him/her. Darth Vader']].groupby(['Favorably, unfavorably, or are unfamiliar with him/her. Darth Vader','Education'])\n",
    "myorder = ['Very favorably',\n",
    "'Somewhat favorably',\n",
    "'Neither favorably nor unfavorably (neutral)',\n",
    "'Unfamiliar (n/a)',\n",
    "'Somewhat unfavorably',\n",
    "'Very unfavorably']\n",
    "reordered = grp.size().reindex(myorder,level =0)\n",
    "reordered.unstack().plot.bar()\n",
    "plt.title(\"Relationship between Education and their attitude to Darth Vader\")\n",
    "plt.ylabel('Number of People')\n",
    "index = np.arange(len(myorder))\n",
    "plt.xticks(index, [\n",
    "'Very favorably',\n",
    "'Somewhat favorably',\n",
    "'Neutral',\n",
    "'Unfamiliar (n/a)',\n",
    "'Somewhat unfavorably',\n",
    "'Very unfavorably'])\n",
    "plt.show()\n",
    "\n",
    "grp = starwars_copy4[['Education','Favorably, unfavorably, or are unfamiliar with him/her. Jar Jar Binks']].groupby(['Favorably, unfavorably, or are unfamiliar with him/her. Jar Jar Binks','Education'])\n",
    "myorder = ['Very favorably',\n",
    "'Somewhat favorably',\n",
    "'Neither favorably nor unfavorably (neutral)',\n",
    "'Unfamiliar (n/a)',\n",
    "'Somewhat unfavorably',\n",
    "'Very unfavorably']\n",
    "reordered = grp.size().reindex(myorder,level =0)\n",
    "reordered.unstack().plot.bar()\n",
    "plt.title(\"Relationship between Education and their attitude to Jar Jar Binks\")\n",
    "plt.ylabel('Number of People')\n",
    "index = np.arange(len(myorder))\n",
    "plt.xticks(index, [\n",
    "'Very favorably',\n",
    "'Somewhat favorably',\n",
    "'Neutral',\n",
    "'Unfamiliar (n/a)',\n",
    "'Somewhat unfavorably',\n",
    "'Very unfavorably'])\n",
    "plt.show()"
   ]
  },
  {
   "cell_type": "markdown",
   "metadata": {},
   "source": [
    "Make a copy of the original Star Wars data frame to eliminate all -1, which are previously NaN values"
   ]
  },
  {
   "cell_type": "code",
   "execution_count": 96,
   "metadata": {
    "scrolled": true
   },
   "outputs": [
    {
     "data": {
      "text/plain": [
       "East north central    181\n",
       "Pacific               175\n",
       "South atlantic        170\n",
       "Middle atlantic       122\n",
       "West south central    110\n",
       "West north central     93\n",
       "Mountain               79\n",
       "New england            75\n",
       "East south central     38\n",
       "Name: Location (Census Region), dtype: int64"
      ]
     },
     "execution_count": 96,
     "metadata": {},
     "output_type": "execute_result"
    }
   ],
   "source": [
    "starwars_copy5 = starwars.copy()\n",
    "starwars_copy5 = starwars_copy5[starwars_copy5['Location (Census Region)'] != -1]\n",
    "starwars_copy5['Location (Census Region)'].value_counts()"
   ]
  },
  {
   "cell_type": "markdown",
   "metadata": {},
   "source": [
    "Make a side-by-side bar graph for the relationships between Location and their attitude to Start War characters."
   ]
  },
  {
   "cell_type": "code",
   "execution_count": 97,
   "metadata": {},
   "outputs": [
    {
     "data": {
      "image/png": "[encoded data removed]",
      "text/plain": [
       "<Figure size 432x288 with 1 Axes>"
      ]
     },
     "metadata": {
      "needs_background": "light"
     },
     "output_type": "display_data"
    },
    {
     "data": {
      "image/png": "[encoded data removed]",
      "text/plain": [
       "<Figure size 432x288 with 1 Axes>"
      ]
     },
     "metadata": {
      "needs_background": "light"
     },
     "output_type": "display_data"
    },
    {
     "data": {
      "image/png": "[encoded data removed]",
      "text/plain": [
       "<Figure size 432x288 with 1 Axes>"
      ]
     },
     "metadata": {
      "needs_background": "light"
     },
     "output_type": "display_data"
    }
   ],
   "source": [
    "grp = starwars_copy5[['Location (Census Region)','Favorably, unfavorably, or are unfamiliar with him/her. Han Solo']].groupby(['Favorably, unfavorably, or are unfamiliar with him/her. Han Solo','Location (Census Region)'])\n",
    "myorder = [\n",
    "'Very favorably',\n",
    "'Somewhat favorably',\n",
    "'Neither favorably nor unfavorably (neutral)',\n",
    "'Unfamiliar (n/a)',\n",
    "'Somewhat unfavorably',\n",
    "'Very unfavorably']\n",
    "reordered = grp.size().reindex(myorder,level =0)\n",
    "reordered.unstack().plot.bar()\n",
    "plt.title(\"Relationship between Location (Census Region) and their attitude to Han Solo\")\n",
    "plt.ylabel('Number of People')\n",
    "index = np.arange(len(myorder))\n",
    "plt.xticks(index, [\n",
    "'Very favorably',\n",
    "'Somewhat favorably',\n",
    "'Neutral',\n",
    "'Unfamiliar (n/a)',\n",
    "'Somewhat unfavorably',\n",
    "'Very unfavorably'])\n",
    "plt.show()\n",
    "\n",
    "grp = starwars_copy5[['Location (Census Region)','Favorably, unfavorably, or are unfamiliar with him/her. Darth Vader']].groupby(['Favorably, unfavorably, or are unfamiliar with him/her. Darth Vader','Location (Census Region)'])\n",
    "myorder = ['Very favorably',\n",
    "'Somewhat favorably',\n",
    "'Neither favorably nor unfavorably (neutral)',\n",
    "'Unfamiliar (n/a)',\n",
    "'Somewhat unfavorably',\n",
    "'Very unfavorably']\n",
    "reordered = grp.size().reindex(myorder,level =0)\n",
    "reordered.unstack().plot.bar()\n",
    "plt.title(\"Relationship between Location (Census Region) and their attitude to Darth Vader\")\n",
    "plt.ylabel('Number of People')\n",
    "index = np.arange(len(myorder))\n",
    "plt.xticks(index, [\n",
    "'Very favorably',\n",
    "'Somewhat favorably',\n",
    "'Neutral',\n",
    "'Unfamiliar (n/a)',\n",
    "'Somewhat unfavorably',\n",
    "'Very unfavorably'])\n",
    "plt.show()\n",
    "\n",
    "grp = starwars_copy5[['Location (Census Region)','Favorably, unfavorably, or are unfamiliar with him/her. Jar Jar Binks']].groupby(['Favorably, unfavorably, or are unfamiliar with him/her. Jar Jar Binks','Location (Census Region)'])\n",
    "myorder = ['Very favorably',\n",
    "'Somewhat favorably',\n",
    "'Neither favorably nor unfavorably (neutral)',\n",
    "'Unfamiliar (n/a)',\n",
    "'Somewhat unfavorably',\n",
    "'Very unfavorably']\n",
    "reordered = grp.size().reindex(myorder,level =0)\n",
    "reordered.unstack().plot.bar()\n",
    "plt.title(\"Relationship between Location (Census Region) and their attitude to Jar Jar Binks\")\n",
    "plt.ylabel('Number of People')\n",
    "index = np.arange(len(myorder))\n",
    "plt.xticks(index, [\n",
    "'Very favorably',\n",
    "'Somewhat favorably',\n",
    "'Neutral',\n",
    "'Unfamiliar (n/a)',\n",
    "'Somewhat unfavorably',\n",
    "'Very unfavorably'])\n",
    "plt.show()"
   ]
  }
 ],
 "metadata": {
  "kernelspec": {
   "display_name": "Python 3",
   "language": "python",
   "name": "python3"
  },
  "language_info": {
   "codemirror_mode": {
    "name": "ipython",
    "version": 3
   },
   "file_extension": ".py",
   "mimetype": "text/x-python",
   "name": "python",
   "nbconvert_exporter": "python",
   "pygments_lexer": "ipython3",
   "version": "3.7.4"
  }
 },
 "nbformat": 4,
 "nbformat_minor": 4
}
